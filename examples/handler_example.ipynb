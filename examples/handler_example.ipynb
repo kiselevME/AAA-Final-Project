{
 "cells": [
  {
   "cell_type": "code",
   "execution_count": 1,
   "metadata": {},
   "outputs": [],
   "source": [
    "# ссылка на изображение\n",
    "path = './607134000406/14955569620.jpg'\n",
    "\n",
    "with open(path, \"rb\") as image:\n",
    "    f = image.read()\n",
    "    binary_image = bytearray(f)"
   ]
  },
  {
   "cell_type": "code",
   "execution_count": 2,
   "metadata": {},
   "outputs": [],
   "source": [
    "path = './607134000406/description.txt'\n",
    "\n",
    "with open(path, \"r\") as desc:\n",
    "    desc = desc.read()"
   ]
  },
  {
   "cell_type": "code",
   "execution_count": 3,
   "metadata": {},
   "outputs": [
    {
     "name": "stdout",
     "output_type": "stream",
     "text": [
      "200\n"
     ]
    },
    {
     "data": {
      "text/plain": [
       "{'result': 'Невозможно определить'}"
      ]
     },
     "execution_count": 3,
     "metadata": {},
     "output_type": "execute_result"
    }
   ],
   "source": [
    "import aiohttp\n",
    "\n",
    "files = {'image': binary_image, 'description': desc}\n",
    "\n",
    "async with aiohttp.ClientSession() as session:\n",
    "    async with session.post('http://0.0.0.0:8000/recognizeRenovation', data=files) as response:\n",
    "        print(response.status)\n",
    "        resp = await response.json()\n",
    "\n",
    "resp"
   ]
  },
  {
   "cell_type": "code",
   "execution_count": 4,
   "metadata": {},
   "outputs": [
    {
     "name": "stdout",
     "output_type": "stream",
     "text": [
      "200\n"
     ]
    },
    {
     "data": {
      "text/plain": [
       "{'Дизайнерский': 0.5947055816650391,\n",
       " 'Евро': 0.36153939366340637,\n",
       " 'Требует ремонта': 0.0316399484872818,\n",
       " 'Косметический': 0.01211503054946661}"
      ]
     },
     "execution_count": 4,
     "metadata": {},
     "output_type": "execute_result"
    }
   ],
   "source": [
    "files = {'image': binary_image, 'description': desc, 'returnProbasFlg': '1'}\n",
    "\n",
    "async with aiohttp.ClientSession() as session:\n",
    "    async with session.post('http://0.0.0.0:8000/recognizeRenovation', data=files) as response:\n",
    "        print(response.status)\n",
    "        resp = await response.json()\n",
    "\n",
    "resp"
   ]
  },
  {
   "cell_type": "code",
   "execution_count": null,
   "metadata": {},
   "outputs": [],
   "source": []
  }
 ],
 "metadata": {
  "kernelspec": {
   "display_name": "base_env",
   "language": "python",
   "name": "python3"
  },
  "language_info": {
   "codemirror_mode": {
    "name": "ipython",
    "version": 3
   },
   "file_extension": ".py",
   "mimetype": "text/x-python",
   "name": "python",
   "nbconvert_exporter": "python",
   "pygments_lexer": "ipython3",
   "version": "3.11.5"
  }
 },
 "nbformat": 4,
 "nbformat_minor": 2
}
