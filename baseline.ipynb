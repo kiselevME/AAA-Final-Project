{
 "cells": [
  {
   "cell_type": "code",
   "execution_count": 1,
   "metadata": {},
   "outputs": [],
   "source": [
    "import pandas as pd\n",
    "from sklearn.model_selection import train_test_split"
   ]
  },
  {
   "cell_type": "code",
   "execution_count": 2,
   "metadata": {},
   "outputs": [],
   "source": [
    "df = pd.read_csv('data.csv')"
   ]
  },
  {
   "cell_type": "code",
   "execution_count": 3,
   "metadata": {},
   "outputs": [],
   "source": [
    "RANDOM_STATE = 42\n",
    "\n",
    "TRAIN_SIZE = 0.6\n",
    "VAL_SIZE = 0.15\n",
    "TEST_SIZE = 0.25"
   ]
  },
  {
   "cell_type": "markdown",
   "metadata": {},
   "source": [
    "# Разбиение выборки"
   ]
  },
  {
   "cell_type": "markdown",
   "metadata": {},
   "source": [
    "**Разбивать будем случайно во времени** (без отложенного теста), т.к. большая часть выборки сконцентрирована в ноябре 2023 "
   ]
  },
  {
   "cell_type": "code",
   "execution_count": 4,
   "metadata": {},
   "outputs": [
    {
     "data": {
      "text/plain": [
       "True"
      ]
     },
     "execution_count": 4,
     "metadata": {},
     "output_type": "execute_result"
    }
   ],
   "source": [
    "# проверка уникальности `item_id`\n",
    "df['item_id'].nunique() == df.shape[0]"
   ]
  },
  {
   "cell_type": "code",
   "execution_count": 5,
   "metadata": {},
   "outputs": [],
   "source": [
    "# отделяем test\n",
    "train_val_ids, test_ids = train_test_split(\n",
    "    df['item_id'],\n",
    "    test_size=TEST_SIZE,\n",
    "    random_state=RANDOM_STATE,\n",
    "    shuffle=True,\n",
    "    stratify=df['attr_value_name']\n",
    ")\n",
    "\n",
    "# отделяем train\n",
    "train_ids, val_ids = train_test_split(\n",
    "    df.loc[df['item_id'].isin(train_val_ids), 'item_id'],\n",
    "    test_size=VAL_SIZE * (TRAIN_SIZE + VAL_SIZE + TEST_SIZE) / (TRAIN_SIZE + VAL_SIZE),\n",
    "    random_state=RANDOM_STATE,\n",
    "    shuffle=True,\n",
    "    stratify=df.loc[df['item_id'].isin(train_val_ids),'attr_value_name']\n",
    ")"
   ]
  },
  {
   "cell_type": "code",
   "execution_count": 6,
   "metadata": {},
   "outputs": [
    {
     "name": "stdout",
     "output_type": "stream",
     "text": [
      "sample_part\n",
      "train    119606\n",
      "test      49836\n",
      "val       29902\n",
      "Name: count, dtype: int64\n",
      "sample_part\n",
      "train    0.599998\n",
      "test     0.250000\n",
      "val      0.150002\n",
      "Name: proportion, dtype: float64\n"
     ]
    }
   ],
   "source": [
    "df.loc[df['item_id'].isin(train_ids), 'sample_part'] = 'train'\n",
    "df.loc[df['item_id'].isin(val_ids), 'sample_part'] = 'val'\n",
    "df.loc[df['item_id'].isin(test_ids), 'sample_part'] = 'test'\n",
    "\n",
    "print(df['sample_part'].value_counts(dropna=False))\n",
    "print(df['sample_part'].value_counts(dropna=False, normalize=True))"
   ]
  },
  {
   "cell_type": "code",
   "execution_count": 7,
   "metadata": {},
   "outputs": [
    {
     "name": "stdout",
     "output_type": "stream",
     "text": [
      "train:\n",
      "\tattr_value_name\n",
      "kosmeticheskii     0.464592\n",
      "evro               0.248282\n",
      "trebuet_remonta    0.190199\n",
      "dizainerskii       0.096927\n",
      "Name: proportion, dtype: float64\n",
      "\n",
      "test:\n",
      "\tattr_value_name\n",
      "kosmeticheskii     0.464584\n",
      "evro               0.248274\n",
      "trebuet_remonta    0.190204\n",
      "dizainerskii       0.096938\n",
      "Name: proportion, dtype: float64\n",
      "\n",
      "val:\n",
      "\tattr_value_name\n",
      "kosmeticheskii     0.464618\n",
      "evro               0.248278\n",
      "trebuet_remonta    0.190188\n",
      "dizainerskii       0.096917\n",
      "Name: proportion, dtype: float64\n",
      "\n"
     ]
    }
   ],
   "source": [
    "# проверяем как сработала стратификация\n",
    "for sample_part in df['sample_part'].value_counts(dropna=False).keys():\n",
    "    mask_sp = df['sample_part'] == sample_part\n",
    "    print(\n",
    "        f\"\"\"{sample_part}:\\n\\t{df.loc[mask_sp, 'attr_value_name'].value_counts(dropna=False, normalize=True)}\"\"\",\n",
    "        end='\\n\\n'\n",
    "    )"
   ]
  },
  {
   "cell_type": "code",
   "execution_count": 8,
   "metadata": {},
   "outputs": [],
   "source": [
    "df[['item_id', 'sample_part']].to_csv('splitting_sample.csv', index=False)"
   ]
  },
  {
   "cell_type": "code",
   "execution_count": null,
   "metadata": {},
   "outputs": [],
   "source": []
  }
 ],
 "metadata": {
  "kernelspec": {
   "display_name": "base_env",
   "language": "python",
   "name": "python3"
  },
  "language_info": {
   "codemirror_mode": {
    "name": "ipython",
    "version": 3
   },
   "file_extension": ".py",
   "mimetype": "text/x-python",
   "name": "python",
   "nbconvert_exporter": "python",
   "pygments_lexer": "ipython3",
   "version": "3.11.5"
  }
 },
 "nbformat": 4,
 "nbformat_minor": 2
}
