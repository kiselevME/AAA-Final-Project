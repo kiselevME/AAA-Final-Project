{
 "cells": [
  {
   "cell_type": "code",
   "execution_count": 1,
   "metadata": {},
   "outputs": [],
   "source": [
    "from copy import deepcopy\n",
    "from tqdm import tqdm\n",
    "from collections import Counter\n",
    "import pandas as pd\n",
    "import numpy as np\n",
    "from sklearn.model_selection import train_test_split\n",
    "from sklearn.feature_extraction.text import CountVectorizer, TfidfVectorizer\n",
    "from sklearn.linear_model import LogisticRegression\n",
    "from sklearn.preprocessing import OneHotEncoder\n",
    "from sklearn.preprocessing import StandardScaler\n",
    "from sklearn.pipeline import Pipeline\n",
    "from nltk.corpus import stopwords\n",
    "from nltk.stem.snowball import SnowballStemmer\n",
    "import plotly.express as px"
   ]
  },
  {
   "cell_type": "code",
   "execution_count": 2,
   "metadata": {},
   "outputs": [],
   "source": [
    "df = pd.read_csv('data.csv')"
   ]
  },
  {
   "cell_type": "code",
   "execution_count": 3,
   "metadata": {},
   "outputs": [],
   "source": [
    "RANDOM_STATE = 42\n",
    "\n",
    "TRAIN_SIZE = 0.6\n",
    "VAL_SIZE = 0.15\n",
    "TEST_SIZE = 0.25"
   ]
  },
  {
   "cell_type": "markdown",
   "metadata": {},
   "source": [
    "# Разбиение выборки"
   ]
  },
  {
   "cell_type": "markdown",
   "metadata": {},
   "source": [
    "**Разбивать будем случайно во времени** (без отложенного теста), т.к. большая часть выборки сконцентрирована в ноябре 2023 "
   ]
  },
  {
   "cell_type": "code",
   "execution_count": 4,
   "metadata": {},
   "outputs": [
    {
     "data": {
      "text/plain": [
       "True"
      ]
     },
     "execution_count": 4,
     "metadata": {},
     "output_type": "execute_result"
    }
   ],
   "source": [
    "# проверка уникальности `item_id`\n",
    "df['item_id'].nunique() == df.shape[0]"
   ]
  },
  {
   "cell_type": "code",
   "execution_count": 5,
   "metadata": {},
   "outputs": [],
   "source": [
    "# отделяем test\n",
    "train_val_ids, test_ids = train_test_split(\n",
    "    df['item_id'],\n",
    "    test_size=TEST_SIZE,\n",
    "    random_state=RANDOM_STATE,\n",
    "    shuffle=True,\n",
    "    stratify=df['attr_value_name']\n",
    ")\n",
    "\n",
    "# отделяем train\n",
    "train_ids, val_ids = train_test_split(\n",
    "    df.loc[df['item_id'].isin(train_val_ids), 'item_id'],\n",
    "    test_size=VAL_SIZE * (TRAIN_SIZE + VAL_SIZE + TEST_SIZE) / (TRAIN_SIZE + VAL_SIZE),\n",
    "    random_state=RANDOM_STATE,\n",
    "    shuffle=True,\n",
    "    stratify=df.loc[df['item_id'].isin(train_val_ids),'attr_value_name']\n",
    ")"
   ]
  },
  {
   "cell_type": "code",
   "execution_count": 6,
   "metadata": {},
   "outputs": [
    {
     "name": "stdout",
     "output_type": "stream",
     "text": [
      "sample_part\n",
      "train    119606\n",
      "test      49836\n",
      "val       29902\n",
      "Name: count, dtype: int64\n",
      "sample_part\n",
      "train    0.599998\n",
      "test     0.250000\n",
      "val      0.150002\n",
      "Name: proportion, dtype: float64\n"
     ]
    }
   ],
   "source": [
    "df.loc[df['item_id'].isin(train_ids), 'sample_part'] = 'train'\n",
    "df.loc[df['item_id'].isin(val_ids), 'sample_part'] = 'val'\n",
    "df.loc[df['item_id'].isin(test_ids), 'sample_part'] = 'test'\n",
    "\n",
    "print(df['sample_part'].value_counts(dropna=False))\n",
    "print(df['sample_part'].value_counts(dropna=False, normalize=True))"
   ]
  },
  {
   "cell_type": "code",
   "execution_count": 7,
   "metadata": {},
   "outputs": [
    {
     "name": "stdout",
     "output_type": "stream",
     "text": [
      "train:\n",
      "\tattr_value_name\n",
      "kosmeticheskii     0.464592\n",
      "evro               0.248282\n",
      "trebuet_remonta    0.190199\n",
      "dizainerskii       0.096927\n",
      "Name: proportion, dtype: float64\n",
      "\n",
      "test:\n",
      "\tattr_value_name\n",
      "kosmeticheskii     0.464584\n",
      "evro               0.248274\n",
      "trebuet_remonta    0.190204\n",
      "dizainerskii       0.096938\n",
      "Name: proportion, dtype: float64\n",
      "\n",
      "val:\n",
      "\tattr_value_name\n",
      "kosmeticheskii     0.464618\n",
      "evro               0.248278\n",
      "trebuet_remonta    0.190188\n",
      "dizainerskii       0.096917\n",
      "Name: proportion, dtype: float64\n",
      "\n"
     ]
    }
   ],
   "source": [
    "# проверяем как сработала стратификация\n",
    "for sample_part in df['sample_part'].value_counts(dropna=False).keys():\n",
    "    mask_sp = df['sample_part'] == sample_part\n",
    "    print(\n",
    "        f\"\"\"{sample_part}:\\n\\t{df.loc[mask_sp, 'attr_value_name'].value_counts(dropna=False, normalize=True)}\"\"\",\n",
    "        end='\\n\\n'\n",
    "    )"
   ]
  },
  {
   "cell_type": "code",
   "execution_count": 8,
   "metadata": {},
   "outputs": [],
   "source": [
    "df[['item_id', 'sample_part']].to_csv('splitting_sample.csv', index=False)"
   ]
  },
  {
   "cell_type": "markdown",
   "metadata": {},
   "source": [
    "# Базелин\n",
    "\n",
    "**Идея для базелина**: сделать классификацию на основе регулярок. Это noML подход, но он будет давать какую-то базовую точность"
   ]
  },
  {
   "cell_type": "markdown",
   "metadata": {},
   "source": [
    "# Выделение самых частых слов в описании объявления"
   ]
  },
  {
   "cell_type": "code",
   "execution_count": 9,
   "metadata": {},
   "outputs": [
    {
     "data": {
      "text/plain": [
       "attr_value_name\n",
       "kosmeticheskii     92614\n",
       "evro               49493\n",
       "trebuet_remonta    37915\n",
       "dizainerskii       19322\n",
       "Name: count, dtype: int64"
      ]
     },
     "execution_count": 9,
     "metadata": {},
     "output_type": "execute_result"
    }
   ],
   "source": [
    "df['attr_value_name'].value_counts()"
   ]
  },
  {
   "cell_type": "code",
   "execution_count": 26,
   "metadata": {},
   "outputs": [
    {
     "data": {
      "text/plain": [
       "['и', 'в', 'во', 'не', 'что']"
      ]
     },
     "execution_count": 26,
     "metadata": {},
     "output_type": "execute_result"
    }
   ],
   "source": [
    "russian_stopwords = stopwords.words(\"russian\")\n",
    "russian_stopwords[:5]"
   ]
  },
  {
   "cell_type": "code",
   "execution_count": 39,
   "metadata": {},
   "outputs": [
    {
     "name": "stderr",
     "output_type": "stream",
     "text": [
      "100%|██████████| 199344/199344 [00:05<00:00, 38723.63it/s]\n",
      "100%|██████████| 199344/199344 [06:03<00:00, 548.93it/s]\n"
     ]
    }
   ],
   "source": [
    "count_vect = CountVectorizer(\n",
    "    encoding='utf-8',\n",
    "    lowercase=True,\n",
    "    stop_words=russian_stopwords,\n",
    "    token_pattern='(?u)\\\\b\\\\w\\\\w+\\\\b',\n",
    "    ngram_range=(1, 2),\n",
    "    analyzer='word',\n",
    "    max_df=1.0,\n",
    "    min_df=1\n",
    ")\n",
    "tokenizer = count_vect.build_tokenizer()\n",
    "\n",
    "stemmer = SnowballStemmer('russian') \n",
    "\n",
    "text_tokens = [tokenizer(text) for text in tqdm(df['description'].values)]\n",
    "text_tokens_stem = [\n",
    "    [stemmer.stem(word) for word in text] for text in tqdm(text_tokens)\n",
    "    ]\n",
    "df['description_tokens_stem'] = text_tokens_stem"
   ]
  },
  {
   "cell_type": "markdown",
   "metadata": {},
   "source": [
    "## `trebuet_remonta`"
   ]
  },
  {
   "cell_type": "code",
   "execution_count": 75,
   "metadata": {},
   "outputs": [
    {
     "data": {
      "text/plain": [
       "[('дом', 78844),\n",
       " ('на', 72177),\n",
       " ('квартир', 44723),\n",
       " ('для', 29723),\n",
       " ('по', 28902),\n",
       " ('от', 19718),\n",
       " ('все', 19525),\n",
       " ('детск', 19017),\n",
       " ('этаж', 18011),\n",
       " ('кв', 17916),\n",
       " ('ест', 17596),\n",
       " ('не', 16784),\n",
       " ('прода', 16730),\n",
       " ('район', 16193),\n",
       " ('школ', 16128),\n",
       " ('ипотек', 15831),\n",
       " ('до', 15449),\n",
       " ('комнат', 14940),\n",
       " ('под', 14189),\n",
       " ('магазин', 14144),\n",
       " ('из', 14067),\n",
       " ('ряд', 13932),\n",
       " ('площад', 13907),\n",
       " ('сад', 13490),\n",
       " ('кухн', 13471),\n",
       " ('окн', 13031),\n",
       " ('ремонт', 12986),\n",
       " ('доступн', 12951),\n",
       " ('участк', 12917),\n",
       " ('больш', 12188),\n",
       " ('продаж', 12085),\n",
       " ('минут', 11740),\n",
       " ('нов', 11597),\n",
       " ('город', 11337),\n",
       " ('звон', 11208),\n",
       " ('двор', 11059),\n",
       " ('отделк', 11051),\n",
       " ('без', 10606),\n",
       " ('центр', 10479),\n",
       " ('участок', 10405),\n",
       " ('вод', 10323),\n",
       " ('мест', 10302),\n",
       " ('инфраструктур', 10248),\n",
       " ('жил', 9803),\n",
       " ('метр', 9199),\n",
       " ('располож', 9024),\n",
       " ('можн', 8910),\n",
       " ('удобн', 8873),\n",
       " ('собственник', 8869),\n",
       " ('остановк', 8862),\n",
       " ('возможн', 8652),\n",
       " ('ваш', 8530),\n",
       " ('наход', 8261),\n",
       " ('шагов', 8189),\n",
       " ('эт', 8103),\n",
       " ('отоплен', 8080),\n",
       " ('тепл', 8053),\n",
       " ('территор', 8047),\n",
       " ('пол', 7996),\n",
       " ('площадк', 7904),\n",
       " ('сделк', 7794),\n",
       " ('хорош', 7781),\n",
       " ('планировк', 7750),\n",
       " ('10', 7694),\n",
       " ('просторн', 7444),\n",
       " ('сво', 7329),\n",
       " ('комплекс', 7300),\n",
       " ('газ', 7130),\n",
       " ('выход', 7011),\n",
       " ('стен', 6966),\n",
       " ('люб', 6928),\n",
       " ('вид', 6921),\n",
       " ('отличн', 6918),\n",
       " ('за', 6698),\n",
       " ('санузел', 6691),\n",
       " ('общ', 6574),\n",
       " ('транспорт', 6447),\n",
       " ('во', 6443),\n",
       " ('цен', 6388),\n",
       " ('так', 6342),\n",
       " ('объект', 6338),\n",
       " ('торг', 6294),\n",
       " ('жк', 6268),\n",
       " ('чист', 6192),\n",
       " ('установл', 6171),\n",
       " ('парк', 6145),\n",
       " ('спальн', 6042),\n",
       " ('год', 5978),\n",
       " ('документ', 5933),\n",
       " ('15', 5879),\n",
       " ('имеет', 5841),\n",
       " ('гостин', 5833),\n",
       " ('улиц', 5786),\n",
       " ('сдела', 5785),\n",
       " ('комнатн', 5698),\n",
       " ('такж', 5697),\n",
       " ('зон', 5627),\n",
       " ('коммуникац', 5611),\n",
       " ('соток', 5591),\n",
       " ('сам', 5572)]"
      ]
     },
     "execution_count": 75,
     "metadata": {},
     "output_type": "execute_result"
    }
   ],
   "source": [
    "mask_kosm = df['attr_value_name'] == 'trebuet_remonta'\n",
    "\n",
    "tokens_in_cat = [token for text in df.loc[mask_kosm, 'description_tokens_stem'].values for token in text]\n",
    "Counter(tokens_in_cat).most_common(100)"
   ]
  },
  {
   "cell_type": "markdown",
   "metadata": {},
   "source": [
    "Можно выделить с помощью:\n",
    "- `отделк` + `без`"
   ]
  },
  {
   "cell_type": "code",
   "execution_count": 55,
   "metadata": {},
   "outputs": [
    {
     "name": "stdout",
     "output_type": "stream",
     "text": [
      "find 5819 of 37915\n"
     ]
    },
    {
     "data": {
      "text/plain": [
       "attr_value_name\n",
       "trebuet_remonta    0.517615\n",
       "kosmeticheskii     0.222719\n",
       "evro               0.163086\n",
       "dizainerskii       0.096580\n",
       "Name: proportion, dtype: float64"
      ]
     },
     "execution_count": 55,
     "metadata": {},
     "output_type": "execute_result"
    }
   ],
   "source": [
    "mask = df['description_tokens_stem'].apply(lambda tokens: ('отделк' in tokens) & ('без' in tokens))\n",
    "print(f\"\"\"find {np.sum(mask)} of {df['attr_value_name'].value_counts()['trebuet_remonta']}\"\"\")\n",
    "df.loc[mask, 'attr_value_name'].value_counts(normalize=True)"
   ]
  },
  {
   "cell_type": "markdown",
   "metadata": {},
   "source": [
    "## `kosmeticheskii`"
   ]
  },
  {
   "cell_type": "code",
   "execution_count": 56,
   "metadata": {},
   "outputs": [
    {
     "data": {
      "text/plain": [
       "[('на', 148144),\n",
       " ('квартир', 145525),\n",
       " ('дом', 132077),\n",
       " ('для', 66451),\n",
       " ('по', 52966),\n",
       " ('все', 51405),\n",
       " ('ест', 46032),\n",
       " ('детск', 45922),\n",
       " ('комнат', 42911),\n",
       " ('не', 41862),\n",
       " ('школ', 41539),\n",
       " ('магазин', 39599),\n",
       " ('ряд', 36313),\n",
       " ('кухн', 35679),\n",
       " ('район', 35046),\n",
       " ('ремонт', 34071),\n",
       " ('кв', 33956),\n",
       " ('доступн', 33836),\n",
       " ('этаж', 33815),\n",
       " ('от', 33694),\n",
       " ('сад', 33532),\n",
       " ('окн', 32910),\n",
       " ('прода', 32549),\n",
       " ('до', 30341),\n",
       " ('больш', 29497),\n",
       " ('хорош', 29339),\n",
       " ('нов', 29010),\n",
       " ('двор', 28829),\n",
       " ('остановк', 27206),\n",
       " ('собственник', 26080),\n",
       " ('мебел', 25997),\n",
       " ('без', 25248),\n",
       " ('шагов', 24189),\n",
       " ('ипотек', 24182),\n",
       " ('минут', 23967),\n",
       " ('тепл', 23811),\n",
       " ('продаж', 23689),\n",
       " ('из', 23538),\n",
       " ('город', 23396),\n",
       " ('площад', 23374),\n",
       " ('инфраструктур', 22987),\n",
       " ('вод', 22741),\n",
       " ('центр', 22392),\n",
       " ('звон', 22370),\n",
       " ('мест', 21196),\n",
       " ('чист', 20567),\n",
       " ('удобн', 19621),\n",
       " ('во', 19382),\n",
       " ('можн', 19217),\n",
       " ('уютн', 19206)]"
      ]
     },
     "execution_count": 56,
     "metadata": {},
     "output_type": "execute_result"
    }
   ],
   "source": [
    "mask_kosm = df['attr_value_name'] == 'kosmeticheskii'\n",
    "\n",
    "tokens_in_cat = [token for text in df.loc[mask_kosm, 'description_tokens_stem'].values for token in text]\n",
    "Counter(tokens_in_cat).most_common(50)"
   ]
  },
  {
   "cell_type": "markdown",
   "metadata": {},
   "source": [
    "Что-то выделяется с помощью:\n",
    "- `хорош` + `ремонт`\n",
    "\n",
    "Но довольно неточно"
   ]
  },
  {
   "cell_type": "code",
   "execution_count": 62,
   "metadata": {},
   "outputs": [
    {
     "name": "stdout",
     "output_type": "stream",
     "text": [
      "find 22519 of 37915\n"
     ]
    },
    {
     "data": {
      "text/plain": [
       "attr_value_name\n",
       "kosmeticheskii     0.435188\n",
       "evro               0.368489\n",
       "trebuet_remonta    0.100315\n",
       "dizainerskii       0.096008\n",
       "Name: proportion, dtype: float64"
      ]
     },
     "execution_count": 62,
     "metadata": {},
     "output_type": "execute_result"
    }
   ],
   "source": [
    "mask = df['description_tokens_stem'].apply(lambda tokens: ('хорош' in tokens) & ('ремонт' in tokens))\n",
    "print(f\"\"\"find {np.sum(mask)} of {df['attr_value_name'].value_counts()['trebuet_remonta']}\"\"\")\n",
    "df.loc[mask, 'attr_value_name'].value_counts(normalize=True)"
   ]
  },
  {
   "cell_type": "markdown",
   "metadata": {},
   "source": [
    "## `evro`"
   ]
  },
  {
   "cell_type": "code",
   "execution_count": 64,
   "metadata": {},
   "outputs": [
    {
     "data": {
      "text/plain": [
       "[('квартир', 99095),\n",
       " ('на', 93545),\n",
       " ('дом', 68383),\n",
       " ('для', 46564),\n",
       " ('все', 34812),\n",
       " ('детск', 31352),\n",
       " ('по', 31129),\n",
       " ('ремонт', 30620),\n",
       " ('не', 27493),\n",
       " ('кухн', 25846),\n",
       " ('нов', 25621),\n",
       " ('ест', 25579),\n",
       " ('комнат', 23971),\n",
       " ('школ', 23159),\n",
       " ('от', 22034),\n",
       " ('магазин', 22009),\n",
       " ('мебел', 21552),\n",
       " ('до', 21318),\n",
       " ('доступн', 21170),\n",
       " ('район', 20886),\n",
       " ('ряд', 20710),\n",
       " ('этаж', 20262),\n",
       " ('двор', 19807),\n",
       " ('больш', 19532),\n",
       " ('кв', 19470),\n",
       " ('сад', 18941),\n",
       " ('минут', 18457),\n",
       " ('техник', 18427),\n",
       " ('без', 17257),\n",
       " ('окн', 16782),\n",
       " ('прода', 16601),\n",
       " ('собственник', 16535),\n",
       " ('из', 16206),\n",
       " ('инфраструктур', 16086),\n",
       " ('центр', 15498),\n",
       " ('хорош', 15190),\n",
       " ('тепл', 14362),\n",
       " ('город', 14320),\n",
       " ('пол', 14225),\n",
       " ('звон', 13952),\n",
       " ('площад', 13892),\n",
       " ('отличн', 13878),\n",
       " ('остановк', 13796),\n",
       " ('просторн', 13785),\n",
       " ('удобн', 13664),\n",
       " ('метр', 13646),\n",
       " ('продаж', 13610),\n",
       " ('необходим', 13198),\n",
       " ('мест', 13131),\n",
       " ('шагов', 13102),\n",
       " ('площадк', 13076),\n",
       " ('уютн', 13015),\n",
       " ('ипотек', 12819),\n",
       " ('во', 12662),\n",
       " ('вся', 12418),\n",
       " ('проживан', 12329),\n",
       " ('спальн', 12019),\n",
       " ('качествен', 11921),\n",
       " ('современ', 11904),\n",
       " ('машин', 11676),\n",
       " ('шкаф', 11655),\n",
       " ('санузел', 11024),\n",
       " ('располож', 11020),\n",
       " ('можн', 10964),\n",
       " ('сдает', 10803),\n",
       " ('оста', 10657),\n",
       " ('под', 10465),\n",
       " ('транспорт', 10363),\n",
       " ('комнатн', 10260),\n",
       " ('комфортн', 10240),\n",
       " ('парк', 10105),\n",
       " ('наход', 10089),\n",
       " ('10', 10044),\n",
       " ('очен', 10043),\n",
       " ('лодж', 10003),\n",
       " ('территор', 9994),\n",
       " ('выход', 9955),\n",
       " ('развит', 9875),\n",
       " ('светл', 9868),\n",
       " ('жил', 9701),\n",
       " ('чист', 9696),\n",
       " ('вод', 9577),\n",
       " ('вид', 9466),\n",
       " ('установл', 9454),\n",
       " ('балкон', 9437),\n",
       " ('сдела', 9061),\n",
       " ('эт', 8821),\n",
       " ('люб', 8755),\n",
       " ('жк', 8658),\n",
       " ('ваш', 8639),\n",
       " ('за', 8607),\n",
       " ('гостин', 8577),\n",
       " ('имеет', 8541),\n",
       " ('зон', 8395),\n",
       " ('сделк', 8360),\n",
       " ('срок', 8319),\n",
       " ('кухон', 8183),\n",
       " ('год', 7914),\n",
       " ('такж', 7841),\n",
       " ('ван', 7732)]"
      ]
     },
     "execution_count": 64,
     "metadata": {},
     "output_type": "execute_result"
    }
   ],
   "source": [
    "mask_kosm = df['attr_value_name'] == 'evro'\n",
    "\n",
    "tokens_in_cat = [token for text in df.loc[mask_kosm, 'description_tokens_stem'].values for token in text]\n",
    "Counter(tokens_in_cat).most_common(100)"
   ]
  },
  {
   "cell_type": "markdown",
   "metadata": {},
   "source": [
    "Пробуем:\n",
    "- `тепл` + `пол`\n",
    "- `хорош` + `ремонт`\n",
    "- `нов` + `ремонт`\n",
    "- `современ` + `ремонт`"
   ]
  },
  {
   "cell_type": "code",
   "execution_count": 65,
   "metadata": {},
   "outputs": [
    {
     "name": "stdout",
     "output_type": "stream",
     "text": [
      "find 19817 of 49493\n"
     ]
    },
    {
     "data": {
      "text/plain": [
       "attr_value_name\n",
       "evro               0.327749\n",
       "kosmeticheskii     0.313771\n",
       "dizainerskii       0.182873\n",
       "trebuet_remonta    0.175607\n",
       "Name: proportion, dtype: float64"
      ]
     },
     "execution_count": 65,
     "metadata": {},
     "output_type": "execute_result"
    }
   ],
   "source": [
    "mask = df['description_tokens_stem'].apply(lambda tokens: ('тепл' in tokens) & ('пол' in tokens))\n",
    "print(f\"\"\"find {np.sum(mask)} of {df['attr_value_name'].value_counts()['evro']}\"\"\")\n",
    "df.loc[mask, 'attr_value_name'].value_counts(normalize=True)"
   ]
  },
  {
   "cell_type": "code",
   "execution_count": 69,
   "metadata": {},
   "outputs": [
    {
     "name": "stdout",
     "output_type": "stream",
     "text": [
      "find 22519 of 49493\n"
     ]
    },
    {
     "data": {
      "text/plain": [
       "attr_value_name\n",
       "kosmeticheskii     0.435188\n",
       "evro               0.368489\n",
       "trebuet_remonta    0.100315\n",
       "dizainerskii       0.096008\n",
       "Name: proportion, dtype: float64"
      ]
     },
     "execution_count": 69,
     "metadata": {},
     "output_type": "execute_result"
    }
   ],
   "source": [
    "mask = df['description_tokens_stem'].apply(lambda tokens: ('хорош' in tokens) & ('ремонт' in tokens))\n",
    "print(f\"\"\"find {np.sum(mask)} of {df['attr_value_name'].value_counts()['evro']}\"\"\")\n",
    "df.loc[mask, 'attr_value_name'].value_counts(normalize=True)"
   ]
  },
  {
   "cell_type": "code",
   "execution_count": 66,
   "metadata": {},
   "outputs": [
    {
     "name": "stdout",
     "output_type": "stream",
     "text": [
      "find 27379 of 49493\n"
     ]
    },
    {
     "data": {
      "text/plain": [
       "attr_value_name\n",
       "evro               0.394280\n",
       "kosmeticheskii     0.347785\n",
       "dizainerskii       0.165200\n",
       "trebuet_remonta    0.092735\n",
       "Name: proportion, dtype: float64"
      ]
     },
     "execution_count": 66,
     "metadata": {},
     "output_type": "execute_result"
    }
   ],
   "source": [
    "mask = df['description_tokens_stem'].apply(lambda tokens: ('нов' in tokens) & ('ремонт' in tokens))\n",
    "print(f\"\"\"find {np.sum(mask)} of {df['attr_value_name'].value_counts()['evro']}\"\"\")\n",
    "df.loc[mask, 'attr_value_name'].value_counts(normalize=True)"
   ]
  },
  {
   "cell_type": "code",
   "execution_count": 67,
   "metadata": {},
   "outputs": [
    {
     "name": "stdout",
     "output_type": "stream",
     "text": [
      "find 13251 of 49493\n"
     ]
    },
    {
     "data": {
      "text/plain": [
       "attr_value_name\n",
       "evro               0.501019\n",
       "kosmeticheskii     0.231605\n",
       "dizainerskii       0.206400\n",
       "trebuet_remonta    0.060977\n",
       "Name: proportion, dtype: float64"
      ]
     },
     "execution_count": 67,
     "metadata": {},
     "output_type": "execute_result"
    }
   ],
   "source": [
    "mask = df['description_tokens_stem'].apply(lambda tokens: ('современ' in tokens) & ('ремонт' in tokens))\n",
    "print(f\"\"\"find {np.sum(mask)} of {df['attr_value_name'].value_counts()['evro']}\"\"\")\n",
    "df.loc[mask, 'attr_value_name'].value_counts(normalize=True)"
   ]
  },
  {
   "cell_type": "markdown",
   "metadata": {},
   "source": [
    "1, 3 и 4 комбинации хорошо работают (особенно 4-я)"
   ]
  },
  {
   "cell_type": "markdown",
   "metadata": {},
   "source": [
    "## `dizainerskii`"
   ]
  },
  {
   "cell_type": "code",
   "execution_count": 70,
   "metadata": {},
   "outputs": [
    {
     "data": {
      "text/plain": [
       "[('на', 48267),\n",
       " ('квартир', 36260),\n",
       " ('дом', 32935),\n",
       " ('для', 24159),\n",
       " ('все', 16223),\n",
       " ('по', 15050),\n",
       " ('ремонт', 13274),\n",
       " ('кухн', 12446),\n",
       " ('не', 12298),\n",
       " ('от', 11565),\n",
       " ('детск', 11410),\n",
       " ('комнат', 11112),\n",
       " ('этаж', 11077),\n",
       " ('ест', 10805),\n",
       " ('из', 10501),\n",
       " ('нов', 10346),\n",
       " ('до', 10302),\n",
       " ('больш', 9364),\n",
       " ('мебел', 9357),\n",
       " ('спальн', 9155),\n",
       " ('техник', 8873),\n",
       " ('минут', 8085),\n",
       " ('центр', 7806),\n",
       " ('доступн', 7796),\n",
       " ('кв', 7777),\n",
       " ('ряд', 7407),\n",
       " ('пол', 7406),\n",
       " ('район', 7309),\n",
       " ('магазин', 7208),\n",
       " ('школ', 7161),\n",
       " ('мест', 7037),\n",
       " ('гостин', 6875),\n",
       " ('территор', 6852),\n",
       " ('метр', 6662),\n",
       " ('зон', 6627),\n",
       " ('тепл', 6589),\n",
       " ('сад', 6551),\n",
       " ('двор', 6515),\n",
       " ('город', 6487),\n",
       " ('комплекс', 6485),\n",
       " ('прода', 6468),\n",
       " ('собственник', 6289),\n",
       " ('окн', 6238),\n",
       " ('площад', 6235),\n",
       " ('просторн', 6209),\n",
       " ('без', 6109),\n",
       " ('вид', 6076),\n",
       " ('инфраструктур', 6053),\n",
       " ('под', 5989),\n",
       " ('машин', 5964),\n",
       " ('звон', 5720),\n",
       " ('располож', 5651),\n",
       " ('удобн', 5611),\n",
       " ('качествен', 5560),\n",
       " ('продаж', 5546),\n",
       " ('площадк', 5440),\n",
       " ('жил', 5418),\n",
       " ('эт', 5411),\n",
       " ('современ', 5387),\n",
       " ('можн', 5119),\n",
       " ('проживан', 5107),\n",
       " ('дизайнерск', 5090),\n",
       " ('вся', 5024),\n",
       " ('парк', 4975),\n",
       " ('ипотек', 4919),\n",
       " ('необходим', 4893),\n",
       " ('наход', 4862),\n",
       " ('жк', 4825),\n",
       " ('шкаф', 4755),\n",
       " ('ваш', 4716),\n",
       " ('установл', 4646),\n",
       " ('отличн', 4602),\n",
       " ('комфортн', 4602),\n",
       " ('уютн', 4601),\n",
       " ('вод', 4561),\n",
       " ('ван', 4521),\n",
       " ('выход', 4427),\n",
       " ('санузел', 4400),\n",
       " ('сам', 4397),\n",
       " ('во', 4394),\n",
       " ('гардеробн', 4335),\n",
       " ('выполн', 4295),\n",
       " ('шагов', 4268),\n",
       " ('10', 4212),\n",
       " ('так', 4207),\n",
       " ('хорош', 4194),\n",
       " ('такж', 4156),\n",
       " ('за', 4150),\n",
       " ('очен', 4116),\n",
       " ('сво', 4098),\n",
       " ('котор', 4093),\n",
       " ('со', 4081),\n",
       " ('встроен', 4061),\n",
       " ('полност', 3974),\n",
       " ('ил', 3952),\n",
       " ('участк', 3944),\n",
       " ('имеет', 3919),\n",
       " ('дорог', 3873),\n",
       " ('остановк', 3863),\n",
       " ('оста', 3813)]"
      ]
     },
     "execution_count": 70,
     "metadata": {},
     "output_type": "execute_result"
    }
   ],
   "source": [
    "mask_kosm = df['attr_value_name'] == 'dizainerskii'\n",
    "\n",
    "tokens_in_cat = [token for text in df.loc[mask_kosm, 'description_tokens_stem'].values for token in text]\n",
    "Counter(tokens_in_cat).most_common(100)"
   ]
  },
  {
   "cell_type": "markdown",
   "metadata": {},
   "source": [
    "Пробуем выделить:\n",
    "- `дизайнерск` + `ремонт`"
   ]
  },
  {
   "cell_type": "code",
   "execution_count": 71,
   "metadata": {},
   "outputs": [
    {
     "name": "stdout",
     "output_type": "stream",
     "text": [
      "find 5860 of 19322\n"
     ]
    },
    {
     "data": {
      "text/plain": [
       "attr_value_name\n",
       "dizainerskii       0.707167\n",
       "evro               0.167577\n",
       "trebuet_remonta    0.063652\n",
       "kosmeticheskii     0.061604\n",
       "Name: proportion, dtype: float64"
      ]
     },
     "execution_count": 71,
     "metadata": {},
     "output_type": "execute_result"
    }
   ],
   "source": [
    "mask = df['description_tokens_stem'].apply(lambda tokens: ('дизайнерск' in tokens) & ('ремонт' in tokens))\n",
    "print(f\"\"\"find {np.sum(mask)} of {df['attr_value_name'].value_counts()['dizainerskii']}\"\"\")\n",
    "df.loc[mask, 'attr_value_name'].value_counts(normalize=True)"
   ]
  },
  {
   "cell_type": "markdown",
   "metadata": {},
   "source": [
    "Работает отлично!"
   ]
  },
  {
   "cell_type": "markdown",
   "metadata": {},
   "source": [
    "# Пробуем найти самые важные фичи TF-IDF"
   ]
  },
  {
   "cell_type": "code",
   "execution_count": 228,
   "metadata": {},
   "outputs": [],
   "source": [
    "def best_features(model: LogisticRegression, vect: CountVectorizer | TfidfVectorizer, top_n: int = 10, height: int = 1000):\n",
    "    vocabulary = list(vect.vocabulary_.keys())\n",
    "    coefs = [[vocabulary[i], abs(coef)] for i, coef in enumerate(model.coef_[0])]\n",
    "    coefs = sorted(coefs, key=lambda x: x[1], reverse=True)\n",
    "    data = pd.DataFrame(coefs, columns=['feature', 'coef']).iloc[:top_n]\n",
    "    fig = px.bar(data, x='coef', y='feature', orientation='h', height=height)\n",
    "    return fig"
   ]
  },
  {
   "cell_type": "code",
   "execution_count": 229,
   "metadata": {},
   "outputs": [],
   "source": [
    "bow_vect = CountVectorizer(\n",
    "    encoding='utf-8',\n",
    "    lowercase=True,\n",
    "    stop_words=russian_stopwords,\n",
    "    token_pattern='(?u)\\\\b\\\\w\\\\w+\\\\b',\n",
    "    ngram_range=(1, 2),\n",
    "    analyzer='word',\n",
    "    max_df=0.5,\n",
    "    min_df=1000\n",
    ")"
   ]
  },
  {
   "cell_type": "code",
   "execution_count": 424,
   "metadata": {},
   "outputs": [
    {
     "name": "stderr",
     "output_type": "stream",
     "text": [
      " 32%|███▏      | 63692/199344 [2:34:03<5:28:06,  6.89it/s]\n",
      "100%|██████████| 199344/199344 [00:23<00:00, 8516.81it/s] \n",
      "100%|██████████| 199344/199344 [06:13<00:00, 534.14it/s]\n"
     ]
    }
   ],
   "source": [
    "tokenizer = bow_vect.build_tokenizer()\n",
    "stemmer = SnowballStemmer('russian') \n",
    "\n",
    "text_tokens = [tokenizer(text) for text in tqdm(df['description'].values)]\n",
    "text_tokens_stem = [\n",
    "    ' '.join([stemmer.stem(word) for word in text]) for text in tqdm(text_tokens) # применяем стемминг и обратно преобразуем в текст\n",
    "    ]\n",
    "df['description_text_stem'] = text_tokens_stem"
   ]
  },
  {
   "cell_type": "code",
   "execution_count": 230,
   "metadata": {},
   "outputs": [
    {
     "data": {
      "text/plain": [
       "1751"
      ]
     },
     "execution_count": 230,
     "metadata": {},
     "output_type": "execute_result"
    }
   ],
   "source": [
    "# Применяем bow vectorizer\n",
    "bow_vect.fit(\n",
    "    df.loc[df['sample_part'] == 'train', 'description_text_stem']\n",
    ")\n",
    "len(bow_vect.vocabulary_)"
   ]
  },
  {
   "cell_type": "markdown",
   "metadata": {},
   "source": [
    "Учим 4 классификатора (логрега) – один против всех"
   ]
  },
  {
   "cell_type": "code",
   "execution_count": 231,
   "metadata": {},
   "outputs": [],
   "source": [
    "categories = ['trebuet_remonta', 'kosmeticheskii', 'evro', 'dizainerskii']\n",
    "\n",
    "ohe = OneHotEncoder(\n",
    "    categories=[categories],\n",
    "    sparse_output=False\n",
    "    )\n",
    "\n",
    "df.loc[df['sample_part'] == 'train', categories] = ohe.fit_transform(df.loc[df['sample_part'] == 'train', ['attr_value_name']])"
   ]
  },
  {
   "cell_type": "markdown",
   "metadata": {},
   "source": [
    "### `trebuet_remonta`"
   ]
  },
  {
   "cell_type": "code",
   "execution_count": 236,
   "metadata": {},
   "outputs": [
    {
     "data": {
      "text/html": [
       "<style>#sk-container-id-10 {\n",
       "  /* Definition of color scheme common for light and dark mode */\n",
       "  --sklearn-color-text: black;\n",
       "  --sklearn-color-line: gray;\n",
       "  /* Definition of color scheme for unfitted estimators */\n",
       "  --sklearn-color-unfitted-level-0: #fff5e6;\n",
       "  --sklearn-color-unfitted-level-1: #f6e4d2;\n",
       "  --sklearn-color-unfitted-level-2: #ffe0b3;\n",
       "  --sklearn-color-unfitted-level-3: chocolate;\n",
       "  /* Definition of color scheme for fitted estimators */\n",
       "  --sklearn-color-fitted-level-0: #f0f8ff;\n",
       "  --sklearn-color-fitted-level-1: #d4ebff;\n",
       "  --sklearn-color-fitted-level-2: #b3dbfd;\n",
       "  --sklearn-color-fitted-level-3: cornflowerblue;\n",
       "\n",
       "  /* Specific color for light theme */\n",
       "  --sklearn-color-text-on-default-background: var(--sg-text-color, var(--theme-code-foreground, var(--jp-content-font-color1, black)));\n",
       "  --sklearn-color-background: var(--sg-background-color, var(--theme-background, var(--jp-layout-color0, white)));\n",
       "  --sklearn-color-border-box: var(--sg-text-color, var(--theme-code-foreground, var(--jp-content-font-color1, black)));\n",
       "  --sklearn-color-icon: #696969;\n",
       "\n",
       "  @media (prefers-color-scheme: dark) {\n",
       "    /* Redefinition of color scheme for dark theme */\n",
       "    --sklearn-color-text-on-default-background: var(--sg-text-color, var(--theme-code-foreground, var(--jp-content-font-color1, white)));\n",
       "    --sklearn-color-background: var(--sg-background-color, var(--theme-background, var(--jp-layout-color0, #111)));\n",
       "    --sklearn-color-border-box: var(--sg-text-color, var(--theme-code-foreground, var(--jp-content-font-color1, white)));\n",
       "    --sklearn-color-icon: #878787;\n",
       "  }\n",
       "}\n",
       "\n",
       "#sk-container-id-10 {\n",
       "  color: var(--sklearn-color-text);\n",
       "}\n",
       "\n",
       "#sk-container-id-10 pre {\n",
       "  padding: 0;\n",
       "}\n",
       "\n",
       "#sk-container-id-10 input.sk-hidden--visually {\n",
       "  border: 0;\n",
       "  clip: rect(1px 1px 1px 1px);\n",
       "  clip: rect(1px, 1px, 1px, 1px);\n",
       "  height: 1px;\n",
       "  margin: -1px;\n",
       "  overflow: hidden;\n",
       "  padding: 0;\n",
       "  position: absolute;\n",
       "  width: 1px;\n",
       "}\n",
       "\n",
       "#sk-container-id-10 div.sk-dashed-wrapped {\n",
       "  border: 1px dashed var(--sklearn-color-line);\n",
       "  margin: 0 0.4em 0.5em 0.4em;\n",
       "  box-sizing: border-box;\n",
       "  padding-bottom: 0.4em;\n",
       "  background-color: var(--sklearn-color-background);\n",
       "}\n",
       "\n",
       "#sk-container-id-10 div.sk-container {\n",
       "  /* jupyter's `normalize.less` sets `[hidden] { display: none; }`\n",
       "     but bootstrap.min.css set `[hidden] { display: none !important; }`\n",
       "     so we also need the `!important` here to be able to override the\n",
       "     default hidden behavior on the sphinx rendered scikit-learn.org.\n",
       "     See: https://github.com/scikit-learn/scikit-learn/issues/21755 */\n",
       "  display: inline-block !important;\n",
       "  position: relative;\n",
       "}\n",
       "\n",
       "#sk-container-id-10 div.sk-text-repr-fallback {\n",
       "  display: none;\n",
       "}\n",
       "\n",
       "div.sk-parallel-item,\n",
       "div.sk-serial,\n",
       "div.sk-item {\n",
       "  /* draw centered vertical line to link estimators */\n",
       "  background-image: linear-gradient(var(--sklearn-color-text-on-default-background), var(--sklearn-color-text-on-default-background));\n",
       "  background-size: 2px 100%;\n",
       "  background-repeat: no-repeat;\n",
       "  background-position: center center;\n",
       "}\n",
       "\n",
       "/* Parallel-specific style estimator block */\n",
       "\n",
       "#sk-container-id-10 div.sk-parallel-item::after {\n",
       "  content: \"\";\n",
       "  width: 100%;\n",
       "  border-bottom: 2px solid var(--sklearn-color-text-on-default-background);\n",
       "  flex-grow: 1;\n",
       "}\n",
       "\n",
       "#sk-container-id-10 div.sk-parallel {\n",
       "  display: flex;\n",
       "  align-items: stretch;\n",
       "  justify-content: center;\n",
       "  background-color: var(--sklearn-color-background);\n",
       "  position: relative;\n",
       "}\n",
       "\n",
       "#sk-container-id-10 div.sk-parallel-item {\n",
       "  display: flex;\n",
       "  flex-direction: column;\n",
       "}\n",
       "\n",
       "#sk-container-id-10 div.sk-parallel-item:first-child::after {\n",
       "  align-self: flex-end;\n",
       "  width: 50%;\n",
       "}\n",
       "\n",
       "#sk-container-id-10 div.sk-parallel-item:last-child::after {\n",
       "  align-self: flex-start;\n",
       "  width: 50%;\n",
       "}\n",
       "\n",
       "#sk-container-id-10 div.sk-parallel-item:only-child::after {\n",
       "  width: 0;\n",
       "}\n",
       "\n",
       "/* Serial-specific style estimator block */\n",
       "\n",
       "#sk-container-id-10 div.sk-serial {\n",
       "  display: flex;\n",
       "  flex-direction: column;\n",
       "  align-items: center;\n",
       "  background-color: var(--sklearn-color-background);\n",
       "  padding-right: 1em;\n",
       "  padding-left: 1em;\n",
       "}\n",
       "\n",
       "\n",
       "/* Toggleable style: style used for estimator/Pipeline/ColumnTransformer box that is\n",
       "clickable and can be expanded/collapsed.\n",
       "- Pipeline and ColumnTransformer use this feature and define the default style\n",
       "- Estimators will overwrite some part of the style using the `sk-estimator` class\n",
       "*/\n",
       "\n",
       "/* Pipeline and ColumnTransformer style (default) */\n",
       "\n",
       "#sk-container-id-10 div.sk-toggleable {\n",
       "  /* Default theme specific background. It is overwritten whether we have a\n",
       "  specific estimator or a Pipeline/ColumnTransformer */\n",
       "  background-color: var(--sklearn-color-background);\n",
       "}\n",
       "\n",
       "/* Toggleable label */\n",
       "#sk-container-id-10 label.sk-toggleable__label {\n",
       "  cursor: pointer;\n",
       "  display: block;\n",
       "  width: 100%;\n",
       "  margin-bottom: 0;\n",
       "  padding: 0.5em;\n",
       "  box-sizing: border-box;\n",
       "  text-align: center;\n",
       "}\n",
       "\n",
       "#sk-container-id-10 label.sk-toggleable__label-arrow:before {\n",
       "  /* Arrow on the left of the label */\n",
       "  content: \"▸\";\n",
       "  float: left;\n",
       "  margin-right: 0.25em;\n",
       "  color: var(--sklearn-color-icon);\n",
       "}\n",
       "\n",
       "#sk-container-id-10 label.sk-toggleable__label-arrow:hover:before {\n",
       "  color: var(--sklearn-color-text);\n",
       "}\n",
       "\n",
       "/* Toggleable content - dropdown */\n",
       "\n",
       "#sk-container-id-10 div.sk-toggleable__content {\n",
       "  max-height: 0;\n",
       "  max-width: 0;\n",
       "  overflow: hidden;\n",
       "  text-align: left;\n",
       "  /* unfitted */\n",
       "  background-color: var(--sklearn-color-unfitted-level-0);\n",
       "}\n",
       "\n",
       "#sk-container-id-10 div.sk-toggleable__content.fitted {\n",
       "  /* fitted */\n",
       "  background-color: var(--sklearn-color-fitted-level-0);\n",
       "}\n",
       "\n",
       "#sk-container-id-10 div.sk-toggleable__content pre {\n",
       "  margin: 0.2em;\n",
       "  border-radius: 0.25em;\n",
       "  color: var(--sklearn-color-text);\n",
       "  /* unfitted */\n",
       "  background-color: var(--sklearn-color-unfitted-level-0);\n",
       "}\n",
       "\n",
       "#sk-container-id-10 div.sk-toggleable__content.fitted pre {\n",
       "  /* unfitted */\n",
       "  background-color: var(--sklearn-color-fitted-level-0);\n",
       "}\n",
       "\n",
       "#sk-container-id-10 input.sk-toggleable__control:checked~div.sk-toggleable__content {\n",
       "  /* Expand drop-down */\n",
       "  max-height: 200px;\n",
       "  max-width: 100%;\n",
       "  overflow: auto;\n",
       "}\n",
       "\n",
       "#sk-container-id-10 input.sk-toggleable__control:checked~label.sk-toggleable__label-arrow:before {\n",
       "  content: \"▾\";\n",
       "}\n",
       "\n",
       "/* Pipeline/ColumnTransformer-specific style */\n",
       "\n",
       "#sk-container-id-10 div.sk-label input.sk-toggleable__control:checked~label.sk-toggleable__label {\n",
       "  color: var(--sklearn-color-text);\n",
       "  background-color: var(--sklearn-color-unfitted-level-2);\n",
       "}\n",
       "\n",
       "#sk-container-id-10 div.sk-label.fitted input.sk-toggleable__control:checked~label.sk-toggleable__label {\n",
       "  background-color: var(--sklearn-color-fitted-level-2);\n",
       "}\n",
       "\n",
       "/* Estimator-specific style */\n",
       "\n",
       "/* Colorize estimator box */\n",
       "#sk-container-id-10 div.sk-estimator input.sk-toggleable__control:checked~label.sk-toggleable__label {\n",
       "  /* unfitted */\n",
       "  background-color: var(--sklearn-color-unfitted-level-2);\n",
       "}\n",
       "\n",
       "#sk-container-id-10 div.sk-estimator.fitted input.sk-toggleable__control:checked~label.sk-toggleable__label {\n",
       "  /* fitted */\n",
       "  background-color: var(--sklearn-color-fitted-level-2);\n",
       "}\n",
       "\n",
       "#sk-container-id-10 div.sk-label label.sk-toggleable__label,\n",
       "#sk-container-id-10 div.sk-label label {\n",
       "  /* The background is the default theme color */\n",
       "  color: var(--sklearn-color-text-on-default-background);\n",
       "}\n",
       "\n",
       "/* On hover, darken the color of the background */\n",
       "#sk-container-id-10 div.sk-label:hover label.sk-toggleable__label {\n",
       "  color: var(--sklearn-color-text);\n",
       "  background-color: var(--sklearn-color-unfitted-level-2);\n",
       "}\n",
       "\n",
       "/* Label box, darken color on hover, fitted */\n",
       "#sk-container-id-10 div.sk-label.fitted:hover label.sk-toggleable__label.fitted {\n",
       "  color: var(--sklearn-color-text);\n",
       "  background-color: var(--sklearn-color-fitted-level-2);\n",
       "}\n",
       "\n",
       "/* Estimator label */\n",
       "\n",
       "#sk-container-id-10 div.sk-label label {\n",
       "  font-family: monospace;\n",
       "  font-weight: bold;\n",
       "  display: inline-block;\n",
       "  line-height: 1.2em;\n",
       "}\n",
       "\n",
       "#sk-container-id-10 div.sk-label-container {\n",
       "  text-align: center;\n",
       "}\n",
       "\n",
       "/* Estimator-specific */\n",
       "#sk-container-id-10 div.sk-estimator {\n",
       "  font-family: monospace;\n",
       "  border: 1px dotted var(--sklearn-color-border-box);\n",
       "  border-radius: 0.25em;\n",
       "  box-sizing: border-box;\n",
       "  margin-bottom: 0.5em;\n",
       "  /* unfitted */\n",
       "  background-color: var(--sklearn-color-unfitted-level-0);\n",
       "}\n",
       "\n",
       "#sk-container-id-10 div.sk-estimator.fitted {\n",
       "  /* fitted */\n",
       "  background-color: var(--sklearn-color-fitted-level-0);\n",
       "}\n",
       "\n",
       "/* on hover */\n",
       "#sk-container-id-10 div.sk-estimator:hover {\n",
       "  /* unfitted */\n",
       "  background-color: var(--sklearn-color-unfitted-level-2);\n",
       "}\n",
       "\n",
       "#sk-container-id-10 div.sk-estimator.fitted:hover {\n",
       "  /* fitted */\n",
       "  background-color: var(--sklearn-color-fitted-level-2);\n",
       "}\n",
       "\n",
       "/* Specification for estimator info (e.g. \"i\" and \"?\") */\n",
       "\n",
       "/* Common style for \"i\" and \"?\" */\n",
       "\n",
       ".sk-estimator-doc-link,\n",
       "a:link.sk-estimator-doc-link,\n",
       "a:visited.sk-estimator-doc-link {\n",
       "  float: right;\n",
       "  font-size: smaller;\n",
       "  line-height: 1em;\n",
       "  font-family: monospace;\n",
       "  background-color: var(--sklearn-color-background);\n",
       "  border-radius: 1em;\n",
       "  height: 1em;\n",
       "  width: 1em;\n",
       "  text-decoration: none !important;\n",
       "  margin-left: 1ex;\n",
       "  /* unfitted */\n",
       "  border: var(--sklearn-color-unfitted-level-1) 1pt solid;\n",
       "  color: var(--sklearn-color-unfitted-level-1);\n",
       "}\n",
       "\n",
       ".sk-estimator-doc-link.fitted,\n",
       "a:link.sk-estimator-doc-link.fitted,\n",
       "a:visited.sk-estimator-doc-link.fitted {\n",
       "  /* fitted */\n",
       "  border: var(--sklearn-color-fitted-level-1) 1pt solid;\n",
       "  color: var(--sklearn-color-fitted-level-1);\n",
       "}\n",
       "\n",
       "/* On hover */\n",
       "div.sk-estimator:hover .sk-estimator-doc-link:hover,\n",
       ".sk-estimator-doc-link:hover,\n",
       "div.sk-label-container:hover .sk-estimator-doc-link:hover,\n",
       ".sk-estimator-doc-link:hover {\n",
       "  /* unfitted */\n",
       "  background-color: var(--sklearn-color-unfitted-level-3);\n",
       "  color: var(--sklearn-color-background);\n",
       "  text-decoration: none;\n",
       "}\n",
       "\n",
       "div.sk-estimator.fitted:hover .sk-estimator-doc-link.fitted:hover,\n",
       ".sk-estimator-doc-link.fitted:hover,\n",
       "div.sk-label-container:hover .sk-estimator-doc-link.fitted:hover,\n",
       ".sk-estimator-doc-link.fitted:hover {\n",
       "  /* fitted */\n",
       "  background-color: var(--sklearn-color-fitted-level-3);\n",
       "  color: var(--sklearn-color-background);\n",
       "  text-decoration: none;\n",
       "}\n",
       "\n",
       "/* Span, style for the box shown on hovering the info icon */\n",
       ".sk-estimator-doc-link span {\n",
       "  display: none;\n",
       "  z-index: 9999;\n",
       "  position: relative;\n",
       "  font-weight: normal;\n",
       "  right: .2ex;\n",
       "  padding: .5ex;\n",
       "  margin: .5ex;\n",
       "  width: min-content;\n",
       "  min-width: 20ex;\n",
       "  max-width: 50ex;\n",
       "  color: var(--sklearn-color-text);\n",
       "  box-shadow: 2pt 2pt 4pt #999;\n",
       "  /* unfitted */\n",
       "  background: var(--sklearn-color-unfitted-level-0);\n",
       "  border: .5pt solid var(--sklearn-color-unfitted-level-3);\n",
       "}\n",
       "\n",
       ".sk-estimator-doc-link.fitted span {\n",
       "  /* fitted */\n",
       "  background: var(--sklearn-color-fitted-level-0);\n",
       "  border: var(--sklearn-color-fitted-level-3);\n",
       "}\n",
       "\n",
       ".sk-estimator-doc-link:hover span {\n",
       "  display: block;\n",
       "}\n",
       "\n",
       "/* \"?\"-specific style due to the `<a>` HTML tag */\n",
       "\n",
       "#sk-container-id-10 a.estimator_doc_link {\n",
       "  float: right;\n",
       "  font-size: 1rem;\n",
       "  line-height: 1em;\n",
       "  font-family: monospace;\n",
       "  background-color: var(--sklearn-color-background);\n",
       "  border-radius: 1rem;\n",
       "  height: 1rem;\n",
       "  width: 1rem;\n",
       "  text-decoration: none;\n",
       "  /* unfitted */\n",
       "  color: var(--sklearn-color-unfitted-level-1);\n",
       "  border: var(--sklearn-color-unfitted-level-1) 1pt solid;\n",
       "}\n",
       "\n",
       "#sk-container-id-10 a.estimator_doc_link.fitted {\n",
       "  /* fitted */\n",
       "  border: var(--sklearn-color-fitted-level-1) 1pt solid;\n",
       "  color: var(--sklearn-color-fitted-level-1);\n",
       "}\n",
       "\n",
       "/* On hover */\n",
       "#sk-container-id-10 a.estimator_doc_link:hover {\n",
       "  /* unfitted */\n",
       "  background-color: var(--sklearn-color-unfitted-level-3);\n",
       "  color: var(--sklearn-color-background);\n",
       "  text-decoration: none;\n",
       "}\n",
       "\n",
       "#sk-container-id-10 a.estimator_doc_link.fitted:hover {\n",
       "  /* fitted */\n",
       "  background-color: var(--sklearn-color-fitted-level-3);\n",
       "}\n",
       "</style><div id=\"sk-container-id-10\" class=\"sk-top-container\"><div class=\"sk-text-repr-fallback\"><pre>Pipeline(steps=[(&#x27;ss&#x27;, StandardScaler()),\n",
       "                (&#x27;lr&#x27;, LogisticRegression(random_state=42))])</pre><b>In a Jupyter environment, please rerun this cell to show the HTML representation or trust the notebook. <br />On GitHub, the HTML representation is unable to render, please try loading this page with nbviewer.org.</b></div><div class=\"sk-container\" hidden><div class=\"sk-item sk-dashed-wrapped\"><div class=\"sk-label-container\"><div class=\"sk-label fitted sk-toggleable\"><input class=\"sk-toggleable__control sk-hidden--visually\" id=\"sk-estimator-id-22\" type=\"checkbox\" ><label for=\"sk-estimator-id-22\" class=\"sk-toggleable__label fitted sk-toggleable__label-arrow fitted\">&nbsp;&nbsp;Pipeline<a class=\"sk-estimator-doc-link fitted\" rel=\"noreferrer\" target=\"_blank\" href=\"https://scikit-learn.org/1.4/modules/generated/sklearn.pipeline.Pipeline.html\">?<span>Documentation for Pipeline</span></a><span class=\"sk-estimator-doc-link fitted\">i<span>Fitted</span></span></label><div class=\"sk-toggleable__content fitted\"><pre>Pipeline(steps=[(&#x27;ss&#x27;, StandardScaler()),\n",
       "                (&#x27;lr&#x27;, LogisticRegression(random_state=42))])</pre></div> </div></div><div class=\"sk-serial\"><div class=\"sk-item\"><div class=\"sk-estimator fitted sk-toggleable\"><input class=\"sk-toggleable__control sk-hidden--visually\" id=\"sk-estimator-id-23\" type=\"checkbox\" ><label for=\"sk-estimator-id-23\" class=\"sk-toggleable__label fitted sk-toggleable__label-arrow fitted\">&nbsp;StandardScaler<a class=\"sk-estimator-doc-link fitted\" rel=\"noreferrer\" target=\"_blank\" href=\"https://scikit-learn.org/1.4/modules/generated/sklearn.preprocessing.StandardScaler.html\">?<span>Documentation for StandardScaler</span></a></label><div class=\"sk-toggleable__content fitted\"><pre>StandardScaler()</pre></div> </div></div><div class=\"sk-item\"><div class=\"sk-estimator fitted sk-toggleable\"><input class=\"sk-toggleable__control sk-hidden--visually\" id=\"sk-estimator-id-24\" type=\"checkbox\" ><label for=\"sk-estimator-id-24\" class=\"sk-toggleable__label fitted sk-toggleable__label-arrow fitted\">&nbsp;LogisticRegression<a class=\"sk-estimator-doc-link fitted\" rel=\"noreferrer\" target=\"_blank\" href=\"https://scikit-learn.org/1.4/modules/generated/sklearn.linear_model.LogisticRegression.html\">?<span>Documentation for LogisticRegression</span></a></label><div class=\"sk-toggleable__content fitted\"><pre>LogisticRegression(random_state=42)</pre></div> </div></div></div></div></div></div>"
      ],
      "text/plain": [
       "Pipeline(steps=[('ss', StandardScaler()),\n",
       "                ('lr', LogisticRegression(random_state=42))])"
      ]
     },
     "execution_count": 236,
     "metadata": {},
     "output_type": "execute_result"
    }
   ],
   "source": [
    "pipe = Pipeline(\n",
    "    steps=[('ss', StandardScaler()),\n",
    "           ('lr', LogisticRegression(random_state=RANDOM_STATE))]\n",
    ")\n",
    "\n",
    "pipe.fit(\n",
    "    X=bow_vect.transform(df.loc[df['sample_part'] == 'train', 'description_text_stem']).toarray(),\n",
    "    y=df.loc[df['sample_part'] == 'train', 'trebuet_remonta']\n",
    ")"
   ]
  },
  {
   "cell_type": "code",
   "execution_count": 237,
   "metadata": {},
   "outputs": [
    {
     "data": {
      "application/vnd.plotly.v1+json": {
       "config": {
        "plotlyServerURL": "https://plot.ly"
       },
       "data": [
        {
         "alignmentgroup": "True",
         "hovertemplate": "coef=%{x}<br>feature=%{y}<extra></extra>",
         "legendgroup": "",
         "marker": {
          "color": "#636efa",
          "pattern": {
           "shape": ""
          }
         },
         "name": "",
         "offsetgroup": "",
         "orientation": "h",
         "showlegend": false,
         "textposition": "auto",
         "type": "bar",
         "x": [
          0.5089678043302284,
          0.4825217338491091,
          0.4545621310771772,
          0.43186541025587166,
          0.4270591156347906,
          0.3595159276425765,
          0.33921582512595566,
          0.31319311396250415,
          0.3069631695557971,
          0.3018454035444863,
          0.263648843905591,
          0.24948764817146432,
          0.2376483307164983,
          0.2260651863825313,
          0.22107096822038008,
          0.2201120792180503,
          0.21424290705759863,
          0.21340675279739824,
          0.20651207132553281,
          0.2027006213986411,
          0.20060716264645786,
          0.1780253672808342,
          0.17762667186952824,
          0.17321810958393155,
          0.17190737704920975,
          0.16814602427458805,
          0.16782152846723658,
          0.16142255744238276,
          0.1598827688470204,
          0.15976759404535879,
          0.14235273191416778,
          0.14192790051125184,
          0.14052745278959,
          0.13977557704480692,
          0.13941996830664335,
          0.13878201644060892,
          0.13792146304199485,
          0.13554336793764163,
          0.12918016189972453,
          0.1260185671252399,
          0.12586793836300122,
          0.1223470791225749,
          0.11859274203777441,
          0.11836371631180476,
          0.1167928529035052,
          0.11348343643120473,
          0.11341652942090573,
          0.11331333289201537,
          0.11063183114252835,
          0.11050045902280764
         ],
         "xaxis": "x",
         "y": [
          "связ переезд",
          "жив",
          "включа",
          "пляж",
          "лодж застекл",
          "удобств",
          "развива",
          "техническ",
          "нам",
          "спортивн комплекс",
          "сраз",
          "располож",
          "сан узел",
          "коммунальн услуг",
          "гор",
          "мест парковк",
          "техник мебел",
          "трц",
          "люб форм",
          "поэт",
          "напольн",
          "35",
          "тыс",
          "прям продаж",
          "микрорайон",
          "актуальн",
          "огорожен",
          "рассрочк",
          "пожалуйст",
          "разн сторон",
          "вокруг",
          "дополнительн",
          "лифт грузов",
          "просьб",
          "гостин кухн",
          "лифт пассажирск",
          "стильн",
          "магазин каф",
          "заявк",
          "квт",
          "разб",
          "ипотечн",
          "пункт",
          "насажден",
          "лент",
          "светл уютн",
          "усп",
          "машин",
          "дом хорош",
          "13"
         ],
         "yaxis": "y"
        }
       ],
       "layout": {
        "barmode": "relative",
        "height": 1000,
        "legend": {
         "tracegroupgap": 0
        },
        "margin": {
         "t": 60
        },
        "template": {
         "data": {
          "bar": [
           {
            "error_x": {
             "color": "#2a3f5f"
            },
            "error_y": {
             "color": "#2a3f5f"
            },
            "marker": {
             "line": {
              "color": "#E5ECF6",
              "width": 0.5
             },
             "pattern": {
              "fillmode": "overlay",
              "size": 10,
              "solidity": 0.2
             }
            },
            "type": "bar"
           }
          ],
          "barpolar": [
           {
            "marker": {
             "line": {
              "color": "#E5ECF6",
              "width": 0.5
             },
             "pattern": {
              "fillmode": "overlay",
              "size": 10,
              "solidity": 0.2
             }
            },
            "type": "barpolar"
           }
          ],
          "carpet": [
           {
            "aaxis": {
             "endlinecolor": "#2a3f5f",
             "gridcolor": "white",
             "linecolor": "white",
             "minorgridcolor": "white",
             "startlinecolor": "#2a3f5f"
            },
            "baxis": {
             "endlinecolor": "#2a3f5f",
             "gridcolor": "white",
             "linecolor": "white",
             "minorgridcolor": "white",
             "startlinecolor": "#2a3f5f"
            },
            "type": "carpet"
           }
          ],
          "choropleth": [
           {
            "colorbar": {
             "outlinewidth": 0,
             "ticks": ""
            },
            "type": "choropleth"
           }
          ],
          "contour": [
           {
            "colorbar": {
             "outlinewidth": 0,
             "ticks": ""
            },
            "colorscale": [
             [
              0,
              "#0d0887"
             ],
             [
              0.1111111111111111,
              "#46039f"
             ],
             [
              0.2222222222222222,
              "#7201a8"
             ],
             [
              0.3333333333333333,
              "#9c179e"
             ],
             [
              0.4444444444444444,
              "#bd3786"
             ],
             [
              0.5555555555555556,
              "#d8576b"
             ],
             [
              0.6666666666666666,
              "#ed7953"
             ],
             [
              0.7777777777777778,
              "#fb9f3a"
             ],
             [
              0.8888888888888888,
              "#fdca26"
             ],
             [
              1,
              "#f0f921"
             ]
            ],
            "type": "contour"
           }
          ],
          "contourcarpet": [
           {
            "colorbar": {
             "outlinewidth": 0,
             "ticks": ""
            },
            "type": "contourcarpet"
           }
          ],
          "heatmap": [
           {
            "colorbar": {
             "outlinewidth": 0,
             "ticks": ""
            },
            "colorscale": [
             [
              0,
              "#0d0887"
             ],
             [
              0.1111111111111111,
              "#46039f"
             ],
             [
              0.2222222222222222,
              "#7201a8"
             ],
             [
              0.3333333333333333,
              "#9c179e"
             ],
             [
              0.4444444444444444,
              "#bd3786"
             ],
             [
              0.5555555555555556,
              "#d8576b"
             ],
             [
              0.6666666666666666,
              "#ed7953"
             ],
             [
              0.7777777777777778,
              "#fb9f3a"
             ],
             [
              0.8888888888888888,
              "#fdca26"
             ],
             [
              1,
              "#f0f921"
             ]
            ],
            "type": "heatmap"
           }
          ],
          "heatmapgl": [
           {
            "colorbar": {
             "outlinewidth": 0,
             "ticks": ""
            },
            "colorscale": [
             [
              0,
              "#0d0887"
             ],
             [
              0.1111111111111111,
              "#46039f"
             ],
             [
              0.2222222222222222,
              "#7201a8"
             ],
             [
              0.3333333333333333,
              "#9c179e"
             ],
             [
              0.4444444444444444,
              "#bd3786"
             ],
             [
              0.5555555555555556,
              "#d8576b"
             ],
             [
              0.6666666666666666,
              "#ed7953"
             ],
             [
              0.7777777777777778,
              "#fb9f3a"
             ],
             [
              0.8888888888888888,
              "#fdca26"
             ],
             [
              1,
              "#f0f921"
             ]
            ],
            "type": "heatmapgl"
           }
          ],
          "histogram": [
           {
            "marker": {
             "pattern": {
              "fillmode": "overlay",
              "size": 10,
              "solidity": 0.2
             }
            },
            "type": "histogram"
           }
          ],
          "histogram2d": [
           {
            "colorbar": {
             "outlinewidth": 0,
             "ticks": ""
            },
            "colorscale": [
             [
              0,
              "#0d0887"
             ],
             [
              0.1111111111111111,
              "#46039f"
             ],
             [
              0.2222222222222222,
              "#7201a8"
             ],
             [
              0.3333333333333333,
              "#9c179e"
             ],
             [
              0.4444444444444444,
              "#bd3786"
             ],
             [
              0.5555555555555556,
              "#d8576b"
             ],
             [
              0.6666666666666666,
              "#ed7953"
             ],
             [
              0.7777777777777778,
              "#fb9f3a"
             ],
             [
              0.8888888888888888,
              "#fdca26"
             ],
             [
              1,
              "#f0f921"
             ]
            ],
            "type": "histogram2d"
           }
          ],
          "histogram2dcontour": [
           {
            "colorbar": {
             "outlinewidth": 0,
             "ticks": ""
            },
            "colorscale": [
             [
              0,
              "#0d0887"
             ],
             [
              0.1111111111111111,
              "#46039f"
             ],
             [
              0.2222222222222222,
              "#7201a8"
             ],
             [
              0.3333333333333333,
              "#9c179e"
             ],
             [
              0.4444444444444444,
              "#bd3786"
             ],
             [
              0.5555555555555556,
              "#d8576b"
             ],
             [
              0.6666666666666666,
              "#ed7953"
             ],
             [
              0.7777777777777778,
              "#fb9f3a"
             ],
             [
              0.8888888888888888,
              "#fdca26"
             ],
             [
              1,
              "#f0f921"
             ]
            ],
            "type": "histogram2dcontour"
           }
          ],
          "mesh3d": [
           {
            "colorbar": {
             "outlinewidth": 0,
             "ticks": ""
            },
            "type": "mesh3d"
           }
          ],
          "parcoords": [
           {
            "line": {
             "colorbar": {
              "outlinewidth": 0,
              "ticks": ""
             }
            },
            "type": "parcoords"
           }
          ],
          "pie": [
           {
            "automargin": true,
            "type": "pie"
           }
          ],
          "scatter": [
           {
            "fillpattern": {
             "fillmode": "overlay",
             "size": 10,
             "solidity": 0.2
            },
            "type": "scatter"
           }
          ],
          "scatter3d": [
           {
            "line": {
             "colorbar": {
              "outlinewidth": 0,
              "ticks": ""
             }
            },
            "marker": {
             "colorbar": {
              "outlinewidth": 0,
              "ticks": ""
             }
            },
            "type": "scatter3d"
           }
          ],
          "scattercarpet": [
           {
            "marker": {
             "colorbar": {
              "outlinewidth": 0,
              "ticks": ""
             }
            },
            "type": "scattercarpet"
           }
          ],
          "scattergeo": [
           {
            "marker": {
             "colorbar": {
              "outlinewidth": 0,
              "ticks": ""
             }
            },
            "type": "scattergeo"
           }
          ],
          "scattergl": [
           {
            "marker": {
             "colorbar": {
              "outlinewidth": 0,
              "ticks": ""
             }
            },
            "type": "scattergl"
           }
          ],
          "scattermapbox": [
           {
            "marker": {
             "colorbar": {
              "outlinewidth": 0,
              "ticks": ""
             }
            },
            "type": "scattermapbox"
           }
          ],
          "scatterpolar": [
           {
            "marker": {
             "colorbar": {
              "outlinewidth": 0,
              "ticks": ""
             }
            },
            "type": "scatterpolar"
           }
          ],
          "scatterpolargl": [
           {
            "marker": {
             "colorbar": {
              "outlinewidth": 0,
              "ticks": ""
             }
            },
            "type": "scatterpolargl"
           }
          ],
          "scatterternary": [
           {
            "marker": {
             "colorbar": {
              "outlinewidth": 0,
              "ticks": ""
             }
            },
            "type": "scatterternary"
           }
          ],
          "surface": [
           {
            "colorbar": {
             "outlinewidth": 0,
             "ticks": ""
            },
            "colorscale": [
             [
              0,
              "#0d0887"
             ],
             [
              0.1111111111111111,
              "#46039f"
             ],
             [
              0.2222222222222222,
              "#7201a8"
             ],
             [
              0.3333333333333333,
              "#9c179e"
             ],
             [
              0.4444444444444444,
              "#bd3786"
             ],
             [
              0.5555555555555556,
              "#d8576b"
             ],
             [
              0.6666666666666666,
              "#ed7953"
             ],
             [
              0.7777777777777778,
              "#fb9f3a"
             ],
             [
              0.8888888888888888,
              "#fdca26"
             ],
             [
              1,
              "#f0f921"
             ]
            ],
            "type": "surface"
           }
          ],
          "table": [
           {
            "cells": {
             "fill": {
              "color": "#EBF0F8"
             },
             "line": {
              "color": "white"
             }
            },
            "header": {
             "fill": {
              "color": "#C8D4E3"
             },
             "line": {
              "color": "white"
             }
            },
            "type": "table"
           }
          ]
         },
         "layout": {
          "annotationdefaults": {
           "arrowcolor": "#2a3f5f",
           "arrowhead": 0,
           "arrowwidth": 1
          },
          "autotypenumbers": "strict",
          "coloraxis": {
           "colorbar": {
            "outlinewidth": 0,
            "ticks": ""
           }
          },
          "colorscale": {
           "diverging": [
            [
             0,
             "#8e0152"
            ],
            [
             0.1,
             "#c51b7d"
            ],
            [
             0.2,
             "#de77ae"
            ],
            [
             0.3,
             "#f1b6da"
            ],
            [
             0.4,
             "#fde0ef"
            ],
            [
             0.5,
             "#f7f7f7"
            ],
            [
             0.6,
             "#e6f5d0"
            ],
            [
             0.7,
             "#b8e186"
            ],
            [
             0.8,
             "#7fbc41"
            ],
            [
             0.9,
             "#4d9221"
            ],
            [
             1,
             "#276419"
            ]
           ],
           "sequential": [
            [
             0,
             "#0d0887"
            ],
            [
             0.1111111111111111,
             "#46039f"
            ],
            [
             0.2222222222222222,
             "#7201a8"
            ],
            [
             0.3333333333333333,
             "#9c179e"
            ],
            [
             0.4444444444444444,
             "#bd3786"
            ],
            [
             0.5555555555555556,
             "#d8576b"
            ],
            [
             0.6666666666666666,
             "#ed7953"
            ],
            [
             0.7777777777777778,
             "#fb9f3a"
            ],
            [
             0.8888888888888888,
             "#fdca26"
            ],
            [
             1,
             "#f0f921"
            ]
           ],
           "sequentialminus": [
            [
             0,
             "#0d0887"
            ],
            [
             0.1111111111111111,
             "#46039f"
            ],
            [
             0.2222222222222222,
             "#7201a8"
            ],
            [
             0.3333333333333333,
             "#9c179e"
            ],
            [
             0.4444444444444444,
             "#bd3786"
            ],
            [
             0.5555555555555556,
             "#d8576b"
            ],
            [
             0.6666666666666666,
             "#ed7953"
            ],
            [
             0.7777777777777778,
             "#fb9f3a"
            ],
            [
             0.8888888888888888,
             "#fdca26"
            ],
            [
             1,
             "#f0f921"
            ]
           ]
          },
          "colorway": [
           "#636efa",
           "#EF553B",
           "#00cc96",
           "#ab63fa",
           "#FFA15A",
           "#19d3f3",
           "#FF6692",
           "#B6E880",
           "#FF97FF",
           "#FECB52"
          ],
          "font": {
           "color": "#2a3f5f"
          },
          "geo": {
           "bgcolor": "white",
           "lakecolor": "white",
           "landcolor": "#E5ECF6",
           "showlakes": true,
           "showland": true,
           "subunitcolor": "white"
          },
          "hoverlabel": {
           "align": "left"
          },
          "hovermode": "closest",
          "mapbox": {
           "style": "light"
          },
          "paper_bgcolor": "white",
          "plot_bgcolor": "#E5ECF6",
          "polar": {
           "angularaxis": {
            "gridcolor": "white",
            "linecolor": "white",
            "ticks": ""
           },
           "bgcolor": "#E5ECF6",
           "radialaxis": {
            "gridcolor": "white",
            "linecolor": "white",
            "ticks": ""
           }
          },
          "scene": {
           "xaxis": {
            "backgroundcolor": "#E5ECF6",
            "gridcolor": "white",
            "gridwidth": 2,
            "linecolor": "white",
            "showbackground": true,
            "ticks": "",
            "zerolinecolor": "white"
           },
           "yaxis": {
            "backgroundcolor": "#E5ECF6",
            "gridcolor": "white",
            "gridwidth": 2,
            "linecolor": "white",
            "showbackground": true,
            "ticks": "",
            "zerolinecolor": "white"
           },
           "zaxis": {
            "backgroundcolor": "#E5ECF6",
            "gridcolor": "white",
            "gridwidth": 2,
            "linecolor": "white",
            "showbackground": true,
            "ticks": "",
            "zerolinecolor": "white"
           }
          },
          "shapedefaults": {
           "line": {
            "color": "#2a3f5f"
           }
          },
          "ternary": {
           "aaxis": {
            "gridcolor": "white",
            "linecolor": "white",
            "ticks": ""
           },
           "baxis": {
            "gridcolor": "white",
            "linecolor": "white",
            "ticks": ""
           },
           "bgcolor": "#E5ECF6",
           "caxis": {
            "gridcolor": "white",
            "linecolor": "white",
            "ticks": ""
           }
          },
          "title": {
           "x": 0.05
          },
          "xaxis": {
           "automargin": true,
           "gridcolor": "white",
           "linecolor": "white",
           "ticks": "",
           "title": {
            "standoff": 15
           },
           "zerolinecolor": "white",
           "zerolinewidth": 2
          },
          "yaxis": {
           "automargin": true,
           "gridcolor": "white",
           "linecolor": "white",
           "ticks": "",
           "title": {
            "standoff": 15
           },
           "zerolinecolor": "white",
           "zerolinewidth": 2
          }
         }
        },
        "xaxis": {
         "anchor": "y",
         "domain": [
          0,
          1
         ],
         "title": {
          "text": "coef"
         }
        },
        "yaxis": {
         "anchor": "x",
         "domain": [
          0,
          1
         ],
         "title": {
          "text": "feature"
         }
        }
       }
      }
     },
     "metadata": {},
     "output_type": "display_data"
    }
   ],
   "source": [
    "best_features(model=pipe['lr'], vect=bow_vect, top_n=50, height=1000)"
   ]
  },
  {
   "cell_type": "markdown",
   "metadata": {},
   "source": [
    "Ничего сильно хорошего нет"
   ]
  },
  {
   "cell_type": "code",
   "execution_count": 291,
   "metadata": {},
   "outputs": [
    {
     "name": "stdout",
     "output_type": "stream",
     "text": [
      "find 2059 of 37915\n",
      "attr_value_name\n",
      "trebuet_remonta    0.298203\n",
      "evro               0.287518\n",
      "dizainerskii       0.212725\n",
      "kosmeticheskii     0.201554\n",
      "Name: proportion, dtype: float64\n",
      "\n"
     ]
    }
   ],
   "source": [
    "mask = df['description_text_stem'].apply(lambda text: ('входн групп' in text))\n",
    "print(f\"\"\"find {np.sum(mask)} of {df['attr_value_name'].value_counts()['trebuet_remonta']}\"\"\")\n",
    "print(df.loc[mask, 'attr_value_name'].value_counts(normalize=True), end='\\n\\n')\n",
    "# print(df.loc[~mask, 'attr_value_name'].value_counts(normalize=True), end='\\n\\n')"
   ]
  },
  {
   "cell_type": "markdown",
   "metadata": {},
   "source": [
    "### `kosmeticheskii`"
   ]
  },
  {
   "cell_type": "code",
   "execution_count": 239,
   "metadata": {},
   "outputs": [
    {
     "data": {
      "application/vnd.plotly.v1+json": {
       "config": {
        "plotlyServerURL": "https://plot.ly"
       },
       "data": [
        {
         "alignmentgroup": "True",
         "hovertemplate": "coef=%{x}<br>feature=%{y}<extra></extra>",
         "legendgroup": "",
         "marker": {
          "color": "#636efa",
          "pattern": {
           "shape": ""
          }
         },
         "name": "",
         "offsetgroup": "",
         "orientation": "h",
         "showlegend": false,
         "textposition": "auto",
         "type": "bar",
         "x": [
          0.5666809120191911,
          0.3322057731164671,
          0.32401578465501124,
          0.2387730147241206,
          0.20563760084659172,
          0.16870386260199707,
          0.14177968279062714,
          0.1350518463628847,
          0.1286400149861563,
          0.12167400856409019,
          0.11245041105338355,
          0.10870906750128126,
          0.10684317274976443,
          0.10605800871334048,
          0.10361659552723226,
          0.1004965455748504,
          0.09889982827906839,
          0.09849563544382516,
          0.09567353069952339,
          0.09092078208669431,
          0.0893894525074332,
          0.08604930160892649,
          0.08462222309984803,
          0.08328676182087795,
          0.08222402574254276,
          0.08032391020391864,
          0.07847413846225168,
          0.07793965664772479,
          0.07741055648668112,
          0.07709473108624047,
          0.07517539034559247,
          0.07461719752981917,
          0.07156352880553207,
          0.07136300932580007,
          0.07085809176249598,
          0.07007156227617124,
          0.06941614422568958,
          0.0675932875973933,
          0.0674751663231847,
          0.06714812310929116,
          0.06714406472305329,
          0.067072440204559,
          0.06693217955458022,
          0.06684038129636723,
          0.06627491670968852,
          0.06588833547837118,
          0.06587822567639705,
          0.06566064447270141,
          0.0646175274778606,
          0.0636855476454756
         ],
         "xaxis": "x",
         "y": [
          "удобств",
          "располож",
          "разн сторон",
          "связ переезд",
          "нам",
          "лодж застекл",
          "квт",
          "рассматрива",
          "небольш",
          "спортивн комплекс",
          "кв дом",
          "просторн светл",
          "ст",
          "район ряд",
          "тих спокойн",
          "прям продаж",
          "дом этаж",
          "ответ ваш",
          "част",
          "сдам квартир",
          "напольн",
          "прод комнатн",
          "35",
          "заезжа",
          "сообщен",
          "канализац",
          "безопасн сделк",
          "депоз",
          "выезд",
          "жив",
          "разб",
          "район город",
          "сраз",
          "квартир район",
          "заявк",
          "оснащ",
          "пруд",
          "площад",
          "усп",
          "металлочерепиц",
          "больш количеств",
          "сух",
          "пляж",
          "вниман предлага",
          "чистот сделк",
          "возмож торг",
          "бойлер",
          "рад",
          "раздел",
          "территор комплекс"
         ],
         "yaxis": "y"
        }
       ],
       "layout": {
        "barmode": "relative",
        "height": 1000,
        "legend": {
         "tracegroupgap": 0
        },
        "margin": {
         "t": 60
        },
        "template": {
         "data": {
          "bar": [
           {
            "error_x": {
             "color": "#2a3f5f"
            },
            "error_y": {
             "color": "#2a3f5f"
            },
            "marker": {
             "line": {
              "color": "#E5ECF6",
              "width": 0.5
             },
             "pattern": {
              "fillmode": "overlay",
              "size": 10,
              "solidity": 0.2
             }
            },
            "type": "bar"
           }
          ],
          "barpolar": [
           {
            "marker": {
             "line": {
              "color": "#E5ECF6",
              "width": 0.5
             },
             "pattern": {
              "fillmode": "overlay",
              "size": 10,
              "solidity": 0.2
             }
            },
            "type": "barpolar"
           }
          ],
          "carpet": [
           {
            "aaxis": {
             "endlinecolor": "#2a3f5f",
             "gridcolor": "white",
             "linecolor": "white",
             "minorgridcolor": "white",
             "startlinecolor": "#2a3f5f"
            },
            "baxis": {
             "endlinecolor": "#2a3f5f",
             "gridcolor": "white",
             "linecolor": "white",
             "minorgridcolor": "white",
             "startlinecolor": "#2a3f5f"
            },
            "type": "carpet"
           }
          ],
          "choropleth": [
           {
            "colorbar": {
             "outlinewidth": 0,
             "ticks": ""
            },
            "type": "choropleth"
           }
          ],
          "contour": [
           {
            "colorbar": {
             "outlinewidth": 0,
             "ticks": ""
            },
            "colorscale": [
             [
              0,
              "#0d0887"
             ],
             [
              0.1111111111111111,
              "#46039f"
             ],
             [
              0.2222222222222222,
              "#7201a8"
             ],
             [
              0.3333333333333333,
              "#9c179e"
             ],
             [
              0.4444444444444444,
              "#bd3786"
             ],
             [
              0.5555555555555556,
              "#d8576b"
             ],
             [
              0.6666666666666666,
              "#ed7953"
             ],
             [
              0.7777777777777778,
              "#fb9f3a"
             ],
             [
              0.8888888888888888,
              "#fdca26"
             ],
             [
              1,
              "#f0f921"
             ]
            ],
            "type": "contour"
           }
          ],
          "contourcarpet": [
           {
            "colorbar": {
             "outlinewidth": 0,
             "ticks": ""
            },
            "type": "contourcarpet"
           }
          ],
          "heatmap": [
           {
            "colorbar": {
             "outlinewidth": 0,
             "ticks": ""
            },
            "colorscale": [
             [
              0,
              "#0d0887"
             ],
             [
              0.1111111111111111,
              "#46039f"
             ],
             [
              0.2222222222222222,
              "#7201a8"
             ],
             [
              0.3333333333333333,
              "#9c179e"
             ],
             [
              0.4444444444444444,
              "#bd3786"
             ],
             [
              0.5555555555555556,
              "#d8576b"
             ],
             [
              0.6666666666666666,
              "#ed7953"
             ],
             [
              0.7777777777777778,
              "#fb9f3a"
             ],
             [
              0.8888888888888888,
              "#fdca26"
             ],
             [
              1,
              "#f0f921"
             ]
            ],
            "type": "heatmap"
           }
          ],
          "heatmapgl": [
           {
            "colorbar": {
             "outlinewidth": 0,
             "ticks": ""
            },
            "colorscale": [
             [
              0,
              "#0d0887"
             ],
             [
              0.1111111111111111,
              "#46039f"
             ],
             [
              0.2222222222222222,
              "#7201a8"
             ],
             [
              0.3333333333333333,
              "#9c179e"
             ],
             [
              0.4444444444444444,
              "#bd3786"
             ],
             [
              0.5555555555555556,
              "#d8576b"
             ],
             [
              0.6666666666666666,
              "#ed7953"
             ],
             [
              0.7777777777777778,
              "#fb9f3a"
             ],
             [
              0.8888888888888888,
              "#fdca26"
             ],
             [
              1,
              "#f0f921"
             ]
            ],
            "type": "heatmapgl"
           }
          ],
          "histogram": [
           {
            "marker": {
             "pattern": {
              "fillmode": "overlay",
              "size": 10,
              "solidity": 0.2
             }
            },
            "type": "histogram"
           }
          ],
          "histogram2d": [
           {
            "colorbar": {
             "outlinewidth": 0,
             "ticks": ""
            },
            "colorscale": [
             [
              0,
              "#0d0887"
             ],
             [
              0.1111111111111111,
              "#46039f"
             ],
             [
              0.2222222222222222,
              "#7201a8"
             ],
             [
              0.3333333333333333,
              "#9c179e"
             ],
             [
              0.4444444444444444,
              "#bd3786"
             ],
             [
              0.5555555555555556,
              "#d8576b"
             ],
             [
              0.6666666666666666,
              "#ed7953"
             ],
             [
              0.7777777777777778,
              "#fb9f3a"
             ],
             [
              0.8888888888888888,
              "#fdca26"
             ],
             [
              1,
              "#f0f921"
             ]
            ],
            "type": "histogram2d"
           }
          ],
          "histogram2dcontour": [
           {
            "colorbar": {
             "outlinewidth": 0,
             "ticks": ""
            },
            "colorscale": [
             [
              0,
              "#0d0887"
             ],
             [
              0.1111111111111111,
              "#46039f"
             ],
             [
              0.2222222222222222,
              "#7201a8"
             ],
             [
              0.3333333333333333,
              "#9c179e"
             ],
             [
              0.4444444444444444,
              "#bd3786"
             ],
             [
              0.5555555555555556,
              "#d8576b"
             ],
             [
              0.6666666666666666,
              "#ed7953"
             ],
             [
              0.7777777777777778,
              "#fb9f3a"
             ],
             [
              0.8888888888888888,
              "#fdca26"
             ],
             [
              1,
              "#f0f921"
             ]
            ],
            "type": "histogram2dcontour"
           }
          ],
          "mesh3d": [
           {
            "colorbar": {
             "outlinewidth": 0,
             "ticks": ""
            },
            "type": "mesh3d"
           }
          ],
          "parcoords": [
           {
            "line": {
             "colorbar": {
              "outlinewidth": 0,
              "ticks": ""
             }
            },
            "type": "parcoords"
           }
          ],
          "pie": [
           {
            "automargin": true,
            "type": "pie"
           }
          ],
          "scatter": [
           {
            "fillpattern": {
             "fillmode": "overlay",
             "size": 10,
             "solidity": 0.2
            },
            "type": "scatter"
           }
          ],
          "scatter3d": [
           {
            "line": {
             "colorbar": {
              "outlinewidth": 0,
              "ticks": ""
             }
            },
            "marker": {
             "colorbar": {
              "outlinewidth": 0,
              "ticks": ""
             }
            },
            "type": "scatter3d"
           }
          ],
          "scattercarpet": [
           {
            "marker": {
             "colorbar": {
              "outlinewidth": 0,
              "ticks": ""
             }
            },
            "type": "scattercarpet"
           }
          ],
          "scattergeo": [
           {
            "marker": {
             "colorbar": {
              "outlinewidth": 0,
              "ticks": ""
             }
            },
            "type": "scattergeo"
           }
          ],
          "scattergl": [
           {
            "marker": {
             "colorbar": {
              "outlinewidth": 0,
              "ticks": ""
             }
            },
            "type": "scattergl"
           }
          ],
          "scattermapbox": [
           {
            "marker": {
             "colorbar": {
              "outlinewidth": 0,
              "ticks": ""
             }
            },
            "type": "scattermapbox"
           }
          ],
          "scatterpolar": [
           {
            "marker": {
             "colorbar": {
              "outlinewidth": 0,
              "ticks": ""
             }
            },
            "type": "scatterpolar"
           }
          ],
          "scatterpolargl": [
           {
            "marker": {
             "colorbar": {
              "outlinewidth": 0,
              "ticks": ""
             }
            },
            "type": "scatterpolargl"
           }
          ],
          "scatterternary": [
           {
            "marker": {
             "colorbar": {
              "outlinewidth": 0,
              "ticks": ""
             }
            },
            "type": "scatterternary"
           }
          ],
          "surface": [
           {
            "colorbar": {
             "outlinewidth": 0,
             "ticks": ""
            },
            "colorscale": [
             [
              0,
              "#0d0887"
             ],
             [
              0.1111111111111111,
              "#46039f"
             ],
             [
              0.2222222222222222,
              "#7201a8"
             ],
             [
              0.3333333333333333,
              "#9c179e"
             ],
             [
              0.4444444444444444,
              "#bd3786"
             ],
             [
              0.5555555555555556,
              "#d8576b"
             ],
             [
              0.6666666666666666,
              "#ed7953"
             ],
             [
              0.7777777777777778,
              "#fb9f3a"
             ],
             [
              0.8888888888888888,
              "#fdca26"
             ],
             [
              1,
              "#f0f921"
             ]
            ],
            "type": "surface"
           }
          ],
          "table": [
           {
            "cells": {
             "fill": {
              "color": "#EBF0F8"
             },
             "line": {
              "color": "white"
             }
            },
            "header": {
             "fill": {
              "color": "#C8D4E3"
             },
             "line": {
              "color": "white"
             }
            },
            "type": "table"
           }
          ]
         },
         "layout": {
          "annotationdefaults": {
           "arrowcolor": "#2a3f5f",
           "arrowhead": 0,
           "arrowwidth": 1
          },
          "autotypenumbers": "strict",
          "coloraxis": {
           "colorbar": {
            "outlinewidth": 0,
            "ticks": ""
           }
          },
          "colorscale": {
           "diverging": [
            [
             0,
             "#8e0152"
            ],
            [
             0.1,
             "#c51b7d"
            ],
            [
             0.2,
             "#de77ae"
            ],
            [
             0.3,
             "#f1b6da"
            ],
            [
             0.4,
             "#fde0ef"
            ],
            [
             0.5,
             "#f7f7f7"
            ],
            [
             0.6,
             "#e6f5d0"
            ],
            [
             0.7,
             "#b8e186"
            ],
            [
             0.8,
             "#7fbc41"
            ],
            [
             0.9,
             "#4d9221"
            ],
            [
             1,
             "#276419"
            ]
           ],
           "sequential": [
            [
             0,
             "#0d0887"
            ],
            [
             0.1111111111111111,
             "#46039f"
            ],
            [
             0.2222222222222222,
             "#7201a8"
            ],
            [
             0.3333333333333333,
             "#9c179e"
            ],
            [
             0.4444444444444444,
             "#bd3786"
            ],
            [
             0.5555555555555556,
             "#d8576b"
            ],
            [
             0.6666666666666666,
             "#ed7953"
            ],
            [
             0.7777777777777778,
             "#fb9f3a"
            ],
            [
             0.8888888888888888,
             "#fdca26"
            ],
            [
             1,
             "#f0f921"
            ]
           ],
           "sequentialminus": [
            [
             0,
             "#0d0887"
            ],
            [
             0.1111111111111111,
             "#46039f"
            ],
            [
             0.2222222222222222,
             "#7201a8"
            ],
            [
             0.3333333333333333,
             "#9c179e"
            ],
            [
             0.4444444444444444,
             "#bd3786"
            ],
            [
             0.5555555555555556,
             "#d8576b"
            ],
            [
             0.6666666666666666,
             "#ed7953"
            ],
            [
             0.7777777777777778,
             "#fb9f3a"
            ],
            [
             0.8888888888888888,
             "#fdca26"
            ],
            [
             1,
             "#f0f921"
            ]
           ]
          },
          "colorway": [
           "#636efa",
           "#EF553B",
           "#00cc96",
           "#ab63fa",
           "#FFA15A",
           "#19d3f3",
           "#FF6692",
           "#B6E880",
           "#FF97FF",
           "#FECB52"
          ],
          "font": {
           "color": "#2a3f5f"
          },
          "geo": {
           "bgcolor": "white",
           "lakecolor": "white",
           "landcolor": "#E5ECF6",
           "showlakes": true,
           "showland": true,
           "subunitcolor": "white"
          },
          "hoverlabel": {
           "align": "left"
          },
          "hovermode": "closest",
          "mapbox": {
           "style": "light"
          },
          "paper_bgcolor": "white",
          "plot_bgcolor": "#E5ECF6",
          "polar": {
           "angularaxis": {
            "gridcolor": "white",
            "linecolor": "white",
            "ticks": ""
           },
           "bgcolor": "#E5ECF6",
           "radialaxis": {
            "gridcolor": "white",
            "linecolor": "white",
            "ticks": ""
           }
          },
          "scene": {
           "xaxis": {
            "backgroundcolor": "#E5ECF6",
            "gridcolor": "white",
            "gridwidth": 2,
            "linecolor": "white",
            "showbackground": true,
            "ticks": "",
            "zerolinecolor": "white"
           },
           "yaxis": {
            "backgroundcolor": "#E5ECF6",
            "gridcolor": "white",
            "gridwidth": 2,
            "linecolor": "white",
            "showbackground": true,
            "ticks": "",
            "zerolinecolor": "white"
           },
           "zaxis": {
            "backgroundcolor": "#E5ECF6",
            "gridcolor": "white",
            "gridwidth": 2,
            "linecolor": "white",
            "showbackground": true,
            "ticks": "",
            "zerolinecolor": "white"
           }
          },
          "shapedefaults": {
           "line": {
            "color": "#2a3f5f"
           }
          },
          "ternary": {
           "aaxis": {
            "gridcolor": "white",
            "linecolor": "white",
            "ticks": ""
           },
           "baxis": {
            "gridcolor": "white",
            "linecolor": "white",
            "ticks": ""
           },
           "bgcolor": "#E5ECF6",
           "caxis": {
            "gridcolor": "white",
            "linecolor": "white",
            "ticks": ""
           }
          },
          "title": {
           "x": 0.05
          },
          "xaxis": {
           "automargin": true,
           "gridcolor": "white",
           "linecolor": "white",
           "ticks": "",
           "title": {
            "standoff": 15
           },
           "zerolinecolor": "white",
           "zerolinewidth": 2
          },
          "yaxis": {
           "automargin": true,
           "gridcolor": "white",
           "linecolor": "white",
           "ticks": "",
           "title": {
            "standoff": 15
           },
           "zerolinecolor": "white",
           "zerolinewidth": 2
          }
         }
        },
        "xaxis": {
         "anchor": "y",
         "domain": [
          0,
          1
         ],
         "title": {
          "text": "coef"
         }
        },
        "yaxis": {
         "anchor": "x",
         "domain": [
          0,
          1
         ],
         "title": {
          "text": "feature"
         }
        }
       }
      }
     },
     "metadata": {},
     "output_type": "display_data"
    }
   ],
   "source": [
    "pipe = Pipeline(\n",
    "    steps=[('ss', StandardScaler()),\n",
    "           ('lr', LogisticRegression(random_state=RANDOM_STATE))]\n",
    ")\n",
    "\n",
    "pipe.fit(\n",
    "    X=bow_vect.transform(df.loc[df['sample_part'] == 'train', 'description_text_stem']).toarray(),\n",
    "    y=df.loc[df['sample_part'] == 'train', 'kosmeticheskii']\n",
    ")\n",
    "\n",
    "best_features(model=pipe['lr'], vect=bow_vect, top_n=50, height=1000)"
   ]
  },
  {
   "cell_type": "markdown",
   "metadata": {},
   "source": [
    "Получилось найти:\n",
    "- `окн пластиков`\n",
    "- `груш`"
   ]
  },
  {
   "cell_type": "code",
   "execution_count": 292,
   "metadata": {},
   "outputs": [
    {
     "name": "stdout",
     "output_type": "stream",
     "text": [
      "find 4330 of 92614\n",
      "attr_value_name\n",
      "kosmeticheskii     0.644111\n",
      "trebuet_remonta    0.163972\n",
      "evro               0.157044\n",
      "dizainerskii       0.034873\n",
      "Name: proportion, dtype: float64\n",
      "\n"
     ]
    }
   ],
   "source": [
    "mask = df['description_text_stem'].apply(lambda text: ('окн пластиков' in text))\n",
    "print(f\"\"\"find {np.sum(mask)} of {df['attr_value_name'].value_counts()['kosmeticheskii']}\"\"\")\n",
    "print(df.loc[mask, 'attr_value_name'].value_counts(normalize=True), end='\\n\\n')\n",
    "# print(df.loc[~mask, 'attr_value_name'].value_counts(normalize=True), end='\\n\\n')"
   ]
  },
  {
   "cell_type": "code",
   "execution_count": 293,
   "metadata": {},
   "outputs": [
    {
     "name": "stdout",
     "output_type": "stream",
     "text": [
      "find 2405 of 92614\n",
      "attr_value_name\n",
      "kosmeticheskii     0.587110\n",
      "trebuet_remonta    0.209148\n",
      "evro               0.122661\n",
      "dizainerskii       0.081081\n",
      "Name: proportion, dtype: float64\n",
      "\n"
     ]
    }
   ],
   "source": [
    "mask = df['description_text_stem'].apply(lambda text: ('груш' in text))\n",
    "print(f\"\"\"find {np.sum(mask)} of {df['attr_value_name'].value_counts()['kosmeticheskii']}\"\"\")\n",
    "print(df.loc[mask, 'attr_value_name'].value_counts(normalize=True), end='\\n\\n')\n",
    "# print(df.loc[~mask, 'attr_value_name'].value_counts(normalize=True), end='\\n\\n')"
   ]
  },
  {
   "cell_type": "markdown",
   "metadata": {},
   "source": [
    "### `evro`"
   ]
  },
  {
   "cell_type": "code",
   "execution_count": 247,
   "metadata": {},
   "outputs": [
    {
     "data": {
      "application/vnd.plotly.v1+json": {
       "config": {
        "plotlyServerURL": "https://plot.ly"
       },
       "data": [
        {
         "alignmentgroup": "True",
         "hovertemplate": "coef=%{x}<br>feature=%{y}<extra></extra>",
         "legendgroup": "",
         "marker": {
          "color": "#636efa",
          "pattern": {
           "shape": ""
          }
         },
         "name": "",
         "offsetgroup": "",
         "orientation": "h",
         "showlegend": false,
         "textposition": "auto",
         "type": "bar",
         "x": [
          0.528740954499267,
          0.3858323737309341,
          0.31791693362028367,
          0.2800129049418595,
          0.2553433206167797,
          0.22986112443532872,
          0.21733056971076709,
          0.21403867101620538,
          0.19272865036364317,
          0.1793548725641933,
          0.17099936218971956,
          0.14932715608825656,
          0.14245047810322722,
          0.13775774940979832,
          0.13758943855561814,
          0.13690993511825778,
          0.1310783321807371,
          0.12427132553751565,
          0.12110570660821372,
          0.12044361200672203,
          0.11628779671322279,
          0.11541035554709597,
          0.11369663486250935,
          0.10898800699278642,
          0.10818141482810191,
          0.10499683714083781,
          0.09650536590771702,
          0.09648795593202551,
          0.09215227302678956,
          0.09001371224706509,
          0.08906178236026291,
          0.08906076548660144,
          0.08786257725793721,
          0.08688600823921047,
          0.08507850295820274,
          0.08204145973864281,
          0.08072065335435412,
          0.07950896873638116,
          0.07833827182997666,
          0.07823089297127389,
          0.07665557966514339,
          0.07580449373692263,
          0.07521542640578488,
          0.0742549072657009,
          0.07356363191819927,
          0.07105019891603354,
          0.07072923646930204,
          0.06871781428407471,
          0.06804020154599723,
          0.06749566925086804
         ],
         "xaxis": "x",
         "y": [
          "удобств",
          "коммунальн услуг",
          "располож",
          "бонус",
          "заявк",
          "квт",
          "разн сторон",
          "тих спокойн",
          "прям продаж",
          "лодж застекл",
          "кв дом",
          "включа",
          "мог",
          "магазин школ",
          "небольш",
          "квартир площад",
          "дом ест",
          "связ переезд",
          "жив",
          "окн пластиков",
          "необходим проживан",
          "развива",
          "сан узел",
          "рассматрива",
          "завед",
          "хозяйствен",
          "апартамент",
          "чистот сделк",
          "депоз",
          "уют",
          "груш",
          "этаж квартир",
          "ягодн",
          "выезд",
          "шагов",
          "одобрен",
          "бульвар",
          "жилищн",
          "входн групп",
          "оснащ",
          "тыс",
          "раковин",
          "крыш",
          "встроен шкаф",
          "спортивн комплекс",
          "дополнительн",
          "район ряд",
          "безопасн сделк",
          "утюг",
          "гор"
         ],
         "yaxis": "y"
        }
       ],
       "layout": {
        "barmode": "relative",
        "height": 1000,
        "legend": {
         "tracegroupgap": 0
        },
        "margin": {
         "t": 60
        },
        "template": {
         "data": {
          "bar": [
           {
            "error_x": {
             "color": "#2a3f5f"
            },
            "error_y": {
             "color": "#2a3f5f"
            },
            "marker": {
             "line": {
              "color": "#E5ECF6",
              "width": 0.5
             },
             "pattern": {
              "fillmode": "overlay",
              "size": 10,
              "solidity": 0.2
             }
            },
            "type": "bar"
           }
          ],
          "barpolar": [
           {
            "marker": {
             "line": {
              "color": "#E5ECF6",
              "width": 0.5
             },
             "pattern": {
              "fillmode": "overlay",
              "size": 10,
              "solidity": 0.2
             }
            },
            "type": "barpolar"
           }
          ],
          "carpet": [
           {
            "aaxis": {
             "endlinecolor": "#2a3f5f",
             "gridcolor": "white",
             "linecolor": "white",
             "minorgridcolor": "white",
             "startlinecolor": "#2a3f5f"
            },
            "baxis": {
             "endlinecolor": "#2a3f5f",
             "gridcolor": "white",
             "linecolor": "white",
             "minorgridcolor": "white",
             "startlinecolor": "#2a3f5f"
            },
            "type": "carpet"
           }
          ],
          "choropleth": [
           {
            "colorbar": {
             "outlinewidth": 0,
             "ticks": ""
            },
            "type": "choropleth"
           }
          ],
          "contour": [
           {
            "colorbar": {
             "outlinewidth": 0,
             "ticks": ""
            },
            "colorscale": [
             [
              0,
              "#0d0887"
             ],
             [
              0.1111111111111111,
              "#46039f"
             ],
             [
              0.2222222222222222,
              "#7201a8"
             ],
             [
              0.3333333333333333,
              "#9c179e"
             ],
             [
              0.4444444444444444,
              "#bd3786"
             ],
             [
              0.5555555555555556,
              "#d8576b"
             ],
             [
              0.6666666666666666,
              "#ed7953"
             ],
             [
              0.7777777777777778,
              "#fb9f3a"
             ],
             [
              0.8888888888888888,
              "#fdca26"
             ],
             [
              1,
              "#f0f921"
             ]
            ],
            "type": "contour"
           }
          ],
          "contourcarpet": [
           {
            "colorbar": {
             "outlinewidth": 0,
             "ticks": ""
            },
            "type": "contourcarpet"
           }
          ],
          "heatmap": [
           {
            "colorbar": {
             "outlinewidth": 0,
             "ticks": ""
            },
            "colorscale": [
             [
              0,
              "#0d0887"
             ],
             [
              0.1111111111111111,
              "#46039f"
             ],
             [
              0.2222222222222222,
              "#7201a8"
             ],
             [
              0.3333333333333333,
              "#9c179e"
             ],
             [
              0.4444444444444444,
              "#bd3786"
             ],
             [
              0.5555555555555556,
              "#d8576b"
             ],
             [
              0.6666666666666666,
              "#ed7953"
             ],
             [
              0.7777777777777778,
              "#fb9f3a"
             ],
             [
              0.8888888888888888,
              "#fdca26"
             ],
             [
              1,
              "#f0f921"
             ]
            ],
            "type": "heatmap"
           }
          ],
          "heatmapgl": [
           {
            "colorbar": {
             "outlinewidth": 0,
             "ticks": ""
            },
            "colorscale": [
             [
              0,
              "#0d0887"
             ],
             [
              0.1111111111111111,
              "#46039f"
             ],
             [
              0.2222222222222222,
              "#7201a8"
             ],
             [
              0.3333333333333333,
              "#9c179e"
             ],
             [
              0.4444444444444444,
              "#bd3786"
             ],
             [
              0.5555555555555556,
              "#d8576b"
             ],
             [
              0.6666666666666666,
              "#ed7953"
             ],
             [
              0.7777777777777778,
              "#fb9f3a"
             ],
             [
              0.8888888888888888,
              "#fdca26"
             ],
             [
              1,
              "#f0f921"
             ]
            ],
            "type": "heatmapgl"
           }
          ],
          "histogram": [
           {
            "marker": {
             "pattern": {
              "fillmode": "overlay",
              "size": 10,
              "solidity": 0.2
             }
            },
            "type": "histogram"
           }
          ],
          "histogram2d": [
           {
            "colorbar": {
             "outlinewidth": 0,
             "ticks": ""
            },
            "colorscale": [
             [
              0,
              "#0d0887"
             ],
             [
              0.1111111111111111,
              "#46039f"
             ],
             [
              0.2222222222222222,
              "#7201a8"
             ],
             [
              0.3333333333333333,
              "#9c179e"
             ],
             [
              0.4444444444444444,
              "#bd3786"
             ],
             [
              0.5555555555555556,
              "#d8576b"
             ],
             [
              0.6666666666666666,
              "#ed7953"
             ],
             [
              0.7777777777777778,
              "#fb9f3a"
             ],
             [
              0.8888888888888888,
              "#fdca26"
             ],
             [
              1,
              "#f0f921"
             ]
            ],
            "type": "histogram2d"
           }
          ],
          "histogram2dcontour": [
           {
            "colorbar": {
             "outlinewidth": 0,
             "ticks": ""
            },
            "colorscale": [
             [
              0,
              "#0d0887"
             ],
             [
              0.1111111111111111,
              "#46039f"
             ],
             [
              0.2222222222222222,
              "#7201a8"
             ],
             [
              0.3333333333333333,
              "#9c179e"
             ],
             [
              0.4444444444444444,
              "#bd3786"
             ],
             [
              0.5555555555555556,
              "#d8576b"
             ],
             [
              0.6666666666666666,
              "#ed7953"
             ],
             [
              0.7777777777777778,
              "#fb9f3a"
             ],
             [
              0.8888888888888888,
              "#fdca26"
             ],
             [
              1,
              "#f0f921"
             ]
            ],
            "type": "histogram2dcontour"
           }
          ],
          "mesh3d": [
           {
            "colorbar": {
             "outlinewidth": 0,
             "ticks": ""
            },
            "type": "mesh3d"
           }
          ],
          "parcoords": [
           {
            "line": {
             "colorbar": {
              "outlinewidth": 0,
              "ticks": ""
             }
            },
            "type": "parcoords"
           }
          ],
          "pie": [
           {
            "automargin": true,
            "type": "pie"
           }
          ],
          "scatter": [
           {
            "fillpattern": {
             "fillmode": "overlay",
             "size": 10,
             "solidity": 0.2
            },
            "type": "scatter"
           }
          ],
          "scatter3d": [
           {
            "line": {
             "colorbar": {
              "outlinewidth": 0,
              "ticks": ""
             }
            },
            "marker": {
             "colorbar": {
              "outlinewidth": 0,
              "ticks": ""
             }
            },
            "type": "scatter3d"
           }
          ],
          "scattercarpet": [
           {
            "marker": {
             "colorbar": {
              "outlinewidth": 0,
              "ticks": ""
             }
            },
            "type": "scattercarpet"
           }
          ],
          "scattergeo": [
           {
            "marker": {
             "colorbar": {
              "outlinewidth": 0,
              "ticks": ""
             }
            },
            "type": "scattergeo"
           }
          ],
          "scattergl": [
           {
            "marker": {
             "colorbar": {
              "outlinewidth": 0,
              "ticks": ""
             }
            },
            "type": "scattergl"
           }
          ],
          "scattermapbox": [
           {
            "marker": {
             "colorbar": {
              "outlinewidth": 0,
              "ticks": ""
             }
            },
            "type": "scattermapbox"
           }
          ],
          "scatterpolar": [
           {
            "marker": {
             "colorbar": {
              "outlinewidth": 0,
              "ticks": ""
             }
            },
            "type": "scatterpolar"
           }
          ],
          "scatterpolargl": [
           {
            "marker": {
             "colorbar": {
              "outlinewidth": 0,
              "ticks": ""
             }
            },
            "type": "scatterpolargl"
           }
          ],
          "scatterternary": [
           {
            "marker": {
             "colorbar": {
              "outlinewidth": 0,
              "ticks": ""
             }
            },
            "type": "scatterternary"
           }
          ],
          "surface": [
           {
            "colorbar": {
             "outlinewidth": 0,
             "ticks": ""
            },
            "colorscale": [
             [
              0,
              "#0d0887"
             ],
             [
              0.1111111111111111,
              "#46039f"
             ],
             [
              0.2222222222222222,
              "#7201a8"
             ],
             [
              0.3333333333333333,
              "#9c179e"
             ],
             [
              0.4444444444444444,
              "#bd3786"
             ],
             [
              0.5555555555555556,
              "#d8576b"
             ],
             [
              0.6666666666666666,
              "#ed7953"
             ],
             [
              0.7777777777777778,
              "#fb9f3a"
             ],
             [
              0.8888888888888888,
              "#fdca26"
             ],
             [
              1,
              "#f0f921"
             ]
            ],
            "type": "surface"
           }
          ],
          "table": [
           {
            "cells": {
             "fill": {
              "color": "#EBF0F8"
             },
             "line": {
              "color": "white"
             }
            },
            "header": {
             "fill": {
              "color": "#C8D4E3"
             },
             "line": {
              "color": "white"
             }
            },
            "type": "table"
           }
          ]
         },
         "layout": {
          "annotationdefaults": {
           "arrowcolor": "#2a3f5f",
           "arrowhead": 0,
           "arrowwidth": 1
          },
          "autotypenumbers": "strict",
          "coloraxis": {
           "colorbar": {
            "outlinewidth": 0,
            "ticks": ""
           }
          },
          "colorscale": {
           "diverging": [
            [
             0,
             "#8e0152"
            ],
            [
             0.1,
             "#c51b7d"
            ],
            [
             0.2,
             "#de77ae"
            ],
            [
             0.3,
             "#f1b6da"
            ],
            [
             0.4,
             "#fde0ef"
            ],
            [
             0.5,
             "#f7f7f7"
            ],
            [
             0.6,
             "#e6f5d0"
            ],
            [
             0.7,
             "#b8e186"
            ],
            [
             0.8,
             "#7fbc41"
            ],
            [
             0.9,
             "#4d9221"
            ],
            [
             1,
             "#276419"
            ]
           ],
           "sequential": [
            [
             0,
             "#0d0887"
            ],
            [
             0.1111111111111111,
             "#46039f"
            ],
            [
             0.2222222222222222,
             "#7201a8"
            ],
            [
             0.3333333333333333,
             "#9c179e"
            ],
            [
             0.4444444444444444,
             "#bd3786"
            ],
            [
             0.5555555555555556,
             "#d8576b"
            ],
            [
             0.6666666666666666,
             "#ed7953"
            ],
            [
             0.7777777777777778,
             "#fb9f3a"
            ],
            [
             0.8888888888888888,
             "#fdca26"
            ],
            [
             1,
             "#f0f921"
            ]
           ],
           "sequentialminus": [
            [
             0,
             "#0d0887"
            ],
            [
             0.1111111111111111,
             "#46039f"
            ],
            [
             0.2222222222222222,
             "#7201a8"
            ],
            [
             0.3333333333333333,
             "#9c179e"
            ],
            [
             0.4444444444444444,
             "#bd3786"
            ],
            [
             0.5555555555555556,
             "#d8576b"
            ],
            [
             0.6666666666666666,
             "#ed7953"
            ],
            [
             0.7777777777777778,
             "#fb9f3a"
            ],
            [
             0.8888888888888888,
             "#fdca26"
            ],
            [
             1,
             "#f0f921"
            ]
           ]
          },
          "colorway": [
           "#636efa",
           "#EF553B",
           "#00cc96",
           "#ab63fa",
           "#FFA15A",
           "#19d3f3",
           "#FF6692",
           "#B6E880",
           "#FF97FF",
           "#FECB52"
          ],
          "font": {
           "color": "#2a3f5f"
          },
          "geo": {
           "bgcolor": "white",
           "lakecolor": "white",
           "landcolor": "#E5ECF6",
           "showlakes": true,
           "showland": true,
           "subunitcolor": "white"
          },
          "hoverlabel": {
           "align": "left"
          },
          "hovermode": "closest",
          "mapbox": {
           "style": "light"
          },
          "paper_bgcolor": "white",
          "plot_bgcolor": "#E5ECF6",
          "polar": {
           "angularaxis": {
            "gridcolor": "white",
            "linecolor": "white",
            "ticks": ""
           },
           "bgcolor": "#E5ECF6",
           "radialaxis": {
            "gridcolor": "white",
            "linecolor": "white",
            "ticks": ""
           }
          },
          "scene": {
           "xaxis": {
            "backgroundcolor": "#E5ECF6",
            "gridcolor": "white",
            "gridwidth": 2,
            "linecolor": "white",
            "showbackground": true,
            "ticks": "",
            "zerolinecolor": "white"
           },
           "yaxis": {
            "backgroundcolor": "#E5ECF6",
            "gridcolor": "white",
            "gridwidth": 2,
            "linecolor": "white",
            "showbackground": true,
            "ticks": "",
            "zerolinecolor": "white"
           },
           "zaxis": {
            "backgroundcolor": "#E5ECF6",
            "gridcolor": "white",
            "gridwidth": 2,
            "linecolor": "white",
            "showbackground": true,
            "ticks": "",
            "zerolinecolor": "white"
           }
          },
          "shapedefaults": {
           "line": {
            "color": "#2a3f5f"
           }
          },
          "ternary": {
           "aaxis": {
            "gridcolor": "white",
            "linecolor": "white",
            "ticks": ""
           },
           "baxis": {
            "gridcolor": "white",
            "linecolor": "white",
            "ticks": ""
           },
           "bgcolor": "#E5ECF6",
           "caxis": {
            "gridcolor": "white",
            "linecolor": "white",
            "ticks": ""
           }
          },
          "title": {
           "x": 0.05
          },
          "xaxis": {
           "automargin": true,
           "gridcolor": "white",
           "linecolor": "white",
           "ticks": "",
           "title": {
            "standoff": 15
           },
           "zerolinecolor": "white",
           "zerolinewidth": 2
          },
          "yaxis": {
           "automargin": true,
           "gridcolor": "white",
           "linecolor": "white",
           "ticks": "",
           "title": {
            "standoff": 15
           },
           "zerolinecolor": "white",
           "zerolinewidth": 2
          }
         }
        },
        "xaxis": {
         "anchor": "y",
         "domain": [
          0,
          1
         ],
         "title": {
          "text": "coef"
         }
        },
        "yaxis": {
         "anchor": "x",
         "domain": [
          0,
          1
         ],
         "title": {
          "text": "feature"
         }
        }
       }
      }
     },
     "metadata": {},
     "output_type": "display_data"
    }
   ],
   "source": [
    "pipe = Pipeline(\n",
    "    steps=[('ss', StandardScaler()),\n",
    "           ('lr', LogisticRegression(random_state=RANDOM_STATE))]\n",
    ")\n",
    "\n",
    "pipe.fit(\n",
    "    X=bow_vect.transform(df.loc[df['sample_part'] == 'train', 'description_text_stem']).toarray(),\n",
    "    y=df.loc[df['sample_part'] == 'train', 'evro']\n",
    ")\n",
    "\n",
    "best_features(model=pipe['lr'], vect=bow_vect, top_n=50, height=1000)"
   ]
  },
  {
   "cell_type": "markdown",
   "metadata": {},
   "source": [
    "- `утюг` (что бы это не значило)\n",
    "- `посудомоечн машин`\n",
    "- `сплит`"
   ]
  },
  {
   "cell_type": "code",
   "execution_count": 294,
   "metadata": {},
   "outputs": [
    {
     "name": "stdout",
     "output_type": "stream",
     "text": [
      "find 2158 of 49493\n",
      "attr_value_name\n",
      "evro               0.458295\n",
      "kosmeticheskii     0.328082\n",
      "dizainerskii       0.208063\n",
      "trebuet_remonta    0.005561\n",
      "Name: proportion, dtype: float64\n",
      "\n"
     ]
    }
   ],
   "source": [
    "mask = df['description_text_stem'].apply(lambda text: ('утюг' in text))\n",
    "print(f\"\"\"find {np.sum(mask)} of {df['attr_value_name'].value_counts()['evro']}\"\"\")\n",
    "print(df.loc[mask, 'attr_value_name'].value_counts(normalize=True), end='\\n\\n')\n",
    "# print(df.loc[~mask, 'attr_value_name'].value_counts(normalize=True), end='\\n\\n')"
   ]
  },
  {
   "cell_type": "code",
   "execution_count": 295,
   "metadata": {},
   "outputs": [
    {
     "name": "stdout",
     "output_type": "stream",
     "text": [
      "find 4735 of 49493\n",
      "attr_value_name\n",
      "evro               0.488490\n",
      "dizainerskii       0.332418\n",
      "kosmeticheskii     0.172122\n",
      "trebuet_remonta    0.006969\n",
      "Name: proportion, dtype: float64\n",
      "\n"
     ]
    }
   ],
   "source": [
    "mask = df['description_text_stem'].apply(lambda text: ('посудомоечн машин' in text))\n",
    "print(f\"\"\"find {np.sum(mask)} of {df['attr_value_name'].value_counts()['evro']}\"\"\")\n",
    "print(df.loc[mask, 'attr_value_name'].value_counts(normalize=True), end='\\n\\n')\n",
    "# print(df.loc[~mask, 'attr_value_name'].value_counts(normalize=True), end='\\n\\n')"
   ]
  },
  {
   "cell_type": "code",
   "execution_count": 296,
   "metadata": {},
   "outputs": [
    {
     "name": "stdout",
     "output_type": "stream",
     "text": [
      "find 3736 of 49493\n",
      "attr_value_name\n",
      "evro               0.408458\n",
      "kosmeticheskii     0.393201\n",
      "dizainerskii       0.157388\n",
      "trebuet_remonta    0.040953\n",
      "Name: proportion, dtype: float64\n",
      "\n"
     ]
    }
   ],
   "source": [
    "mask = df['description_text_stem'].apply(lambda text: ('сплит' in text))\n",
    "print(f\"\"\"find {np.sum(mask)} of {df['attr_value_name'].value_counts()['evro']}\"\"\")\n",
    "print(df.loc[mask, 'attr_value_name'].value_counts(normalize=True), end='\\n\\n')\n",
    "# print(df.loc[~mask, 'attr_value_name'].value_counts(normalize=True), end='\\n\\n')"
   ]
  },
  {
   "cell_type": "markdown",
   "metadata": {},
   "source": [
    "### `dizainerskii`"
   ]
  },
  {
   "cell_type": "code",
   "execution_count": 263,
   "metadata": {},
   "outputs": [
    {
     "data": {
      "application/vnd.plotly.v1+json": {
       "config": {
        "plotlyServerURL": "https://plot.ly"
       },
       "data": [
        {
         "alignmentgroup": "True",
         "hovertemplate": "coef=%{x}<br>feature=%{y}<extra></extra>",
         "legendgroup": "",
         "marker": {
          "color": "#636efa",
          "pattern": {
           "shape": ""
          }
         },
         "name": "",
         "offsetgroup": "",
         "orientation": "h",
         "showlegend": false,
         "textposition": "auto",
         "type": "bar",
         "x": [
          0.7698737914483037,
          0.3140714693962035,
          0.2659377893527031,
          0.25445218770593414,
          0.22702383523062192,
          0.2087325981394046,
          0.16523821501438943,
          0.15412707064986694,
          0.14859139513360844,
          0.14296226756319375,
          0.12956590437475463,
          0.12732486021922268,
          0.12717360364134855,
          0.12205798002901849,
          0.11972617779641528,
          0.11867785177813975,
          0.11608639848696246,
          0.1157361810238059,
          0.11189662651168021,
          0.10868632039213198,
          0.10343309245195839,
          0.10220946159247724,
          0.10148144868398774,
          0.09761641776452404,
          0.0917643984569774,
          0.09132825929296896,
          0.09120296390143322,
          0.09059162651837238,
          0.09012322041122454,
          0.08911151775163836,
          0.08892761390877654,
          0.08697846924713803,
          0.08549058038984085,
          0.08515029059488241,
          0.08465389758654673,
          0.0839828667674221,
          0.08284713365761773,
          0.08193996644935607,
          0.08138038985242857,
          0.08070456523074804,
          0.0806094894484193,
          0.08059528125278423,
          0.0791824514616377,
          0.07905356029271418,
          0.07895290533424085,
          0.0784208927988622,
          0.07838001378273243,
          0.07826132192822281,
          0.07577865762716926,
          0.07577137194404115
         ],
         "xaxis": "x",
         "y": [
          "квт",
          "связ переезд",
          "заявк",
          "удобств",
          "тих спокойн",
          "крыш",
          "квартир площад",
          "разн сторон",
          "прям продаж",
          "бонус",
          "квартир расположен",
          "хозяйствен",
          "спортивн комплекс",
          "дива",
          "направлен",
          "имен",
          "прода дом",
          "учрежден",
          "лифт пассажирск",
          "дом полност",
          "вид окн",
          "кв дом",
          "черт",
          "мог",
          "пакет",
          "посудомоечн машин",
          "утеплен",
          "выход двор",
          "натуральн",
          "жив",
          "сделк звон",
          "прода квартир",
          "окн пластиков",
          "груш",
          "телевиден",
          "вниман предлага",
          "помож",
          "транспорт",
          "оперативн показ",
          "рад",
          "квартир район",
          "сплит",
          "этаж этажн",
          "высок",
          "агентств недвижим",
          "магазин школ",
          "остановк",
          "бульвар",
          "надежн",
          "две"
         ],
         "yaxis": "y"
        }
       ],
       "layout": {
        "barmode": "relative",
        "height": 1000,
        "legend": {
         "tracegroupgap": 0
        },
        "margin": {
         "t": 60
        },
        "template": {
         "data": {
          "bar": [
           {
            "error_x": {
             "color": "#2a3f5f"
            },
            "error_y": {
             "color": "#2a3f5f"
            },
            "marker": {
             "line": {
              "color": "#E5ECF6",
              "width": 0.5
             },
             "pattern": {
              "fillmode": "overlay",
              "size": 10,
              "solidity": 0.2
             }
            },
            "type": "bar"
           }
          ],
          "barpolar": [
           {
            "marker": {
             "line": {
              "color": "#E5ECF6",
              "width": 0.5
             },
             "pattern": {
              "fillmode": "overlay",
              "size": 10,
              "solidity": 0.2
             }
            },
            "type": "barpolar"
           }
          ],
          "carpet": [
           {
            "aaxis": {
             "endlinecolor": "#2a3f5f",
             "gridcolor": "white",
             "linecolor": "white",
             "minorgridcolor": "white",
             "startlinecolor": "#2a3f5f"
            },
            "baxis": {
             "endlinecolor": "#2a3f5f",
             "gridcolor": "white",
             "linecolor": "white",
             "minorgridcolor": "white",
             "startlinecolor": "#2a3f5f"
            },
            "type": "carpet"
           }
          ],
          "choropleth": [
           {
            "colorbar": {
             "outlinewidth": 0,
             "ticks": ""
            },
            "type": "choropleth"
           }
          ],
          "contour": [
           {
            "colorbar": {
             "outlinewidth": 0,
             "ticks": ""
            },
            "colorscale": [
             [
              0,
              "#0d0887"
             ],
             [
              0.1111111111111111,
              "#46039f"
             ],
             [
              0.2222222222222222,
              "#7201a8"
             ],
             [
              0.3333333333333333,
              "#9c179e"
             ],
             [
              0.4444444444444444,
              "#bd3786"
             ],
             [
              0.5555555555555556,
              "#d8576b"
             ],
             [
              0.6666666666666666,
              "#ed7953"
             ],
             [
              0.7777777777777778,
              "#fb9f3a"
             ],
             [
              0.8888888888888888,
              "#fdca26"
             ],
             [
              1,
              "#f0f921"
             ]
            ],
            "type": "contour"
           }
          ],
          "contourcarpet": [
           {
            "colorbar": {
             "outlinewidth": 0,
             "ticks": ""
            },
            "type": "contourcarpet"
           }
          ],
          "heatmap": [
           {
            "colorbar": {
             "outlinewidth": 0,
             "ticks": ""
            },
            "colorscale": [
             [
              0,
              "#0d0887"
             ],
             [
              0.1111111111111111,
              "#46039f"
             ],
             [
              0.2222222222222222,
              "#7201a8"
             ],
             [
              0.3333333333333333,
              "#9c179e"
             ],
             [
              0.4444444444444444,
              "#bd3786"
             ],
             [
              0.5555555555555556,
              "#d8576b"
             ],
             [
              0.6666666666666666,
              "#ed7953"
             ],
             [
              0.7777777777777778,
              "#fb9f3a"
             ],
             [
              0.8888888888888888,
              "#fdca26"
             ],
             [
              1,
              "#f0f921"
             ]
            ],
            "type": "heatmap"
           }
          ],
          "heatmapgl": [
           {
            "colorbar": {
             "outlinewidth": 0,
             "ticks": ""
            },
            "colorscale": [
             [
              0,
              "#0d0887"
             ],
             [
              0.1111111111111111,
              "#46039f"
             ],
             [
              0.2222222222222222,
              "#7201a8"
             ],
             [
              0.3333333333333333,
              "#9c179e"
             ],
             [
              0.4444444444444444,
              "#bd3786"
             ],
             [
              0.5555555555555556,
              "#d8576b"
             ],
             [
              0.6666666666666666,
              "#ed7953"
             ],
             [
              0.7777777777777778,
              "#fb9f3a"
             ],
             [
              0.8888888888888888,
              "#fdca26"
             ],
             [
              1,
              "#f0f921"
             ]
            ],
            "type": "heatmapgl"
           }
          ],
          "histogram": [
           {
            "marker": {
             "pattern": {
              "fillmode": "overlay",
              "size": 10,
              "solidity": 0.2
             }
            },
            "type": "histogram"
           }
          ],
          "histogram2d": [
           {
            "colorbar": {
             "outlinewidth": 0,
             "ticks": ""
            },
            "colorscale": [
             [
              0,
              "#0d0887"
             ],
             [
              0.1111111111111111,
              "#46039f"
             ],
             [
              0.2222222222222222,
              "#7201a8"
             ],
             [
              0.3333333333333333,
              "#9c179e"
             ],
             [
              0.4444444444444444,
              "#bd3786"
             ],
             [
              0.5555555555555556,
              "#d8576b"
             ],
             [
              0.6666666666666666,
              "#ed7953"
             ],
             [
              0.7777777777777778,
              "#fb9f3a"
             ],
             [
              0.8888888888888888,
              "#fdca26"
             ],
             [
              1,
              "#f0f921"
             ]
            ],
            "type": "histogram2d"
           }
          ],
          "histogram2dcontour": [
           {
            "colorbar": {
             "outlinewidth": 0,
             "ticks": ""
            },
            "colorscale": [
             [
              0,
              "#0d0887"
             ],
             [
              0.1111111111111111,
              "#46039f"
             ],
             [
              0.2222222222222222,
              "#7201a8"
             ],
             [
              0.3333333333333333,
              "#9c179e"
             ],
             [
              0.4444444444444444,
              "#bd3786"
             ],
             [
              0.5555555555555556,
              "#d8576b"
             ],
             [
              0.6666666666666666,
              "#ed7953"
             ],
             [
              0.7777777777777778,
              "#fb9f3a"
             ],
             [
              0.8888888888888888,
              "#fdca26"
             ],
             [
              1,
              "#f0f921"
             ]
            ],
            "type": "histogram2dcontour"
           }
          ],
          "mesh3d": [
           {
            "colorbar": {
             "outlinewidth": 0,
             "ticks": ""
            },
            "type": "mesh3d"
           }
          ],
          "parcoords": [
           {
            "line": {
             "colorbar": {
              "outlinewidth": 0,
              "ticks": ""
             }
            },
            "type": "parcoords"
           }
          ],
          "pie": [
           {
            "automargin": true,
            "type": "pie"
           }
          ],
          "scatter": [
           {
            "fillpattern": {
             "fillmode": "overlay",
             "size": 10,
             "solidity": 0.2
            },
            "type": "scatter"
           }
          ],
          "scatter3d": [
           {
            "line": {
             "colorbar": {
              "outlinewidth": 0,
              "ticks": ""
             }
            },
            "marker": {
             "colorbar": {
              "outlinewidth": 0,
              "ticks": ""
             }
            },
            "type": "scatter3d"
           }
          ],
          "scattercarpet": [
           {
            "marker": {
             "colorbar": {
              "outlinewidth": 0,
              "ticks": ""
             }
            },
            "type": "scattercarpet"
           }
          ],
          "scattergeo": [
           {
            "marker": {
             "colorbar": {
              "outlinewidth": 0,
              "ticks": ""
             }
            },
            "type": "scattergeo"
           }
          ],
          "scattergl": [
           {
            "marker": {
             "colorbar": {
              "outlinewidth": 0,
              "ticks": ""
             }
            },
            "type": "scattergl"
           }
          ],
          "scattermapbox": [
           {
            "marker": {
             "colorbar": {
              "outlinewidth": 0,
              "ticks": ""
             }
            },
            "type": "scattermapbox"
           }
          ],
          "scatterpolar": [
           {
            "marker": {
             "colorbar": {
              "outlinewidth": 0,
              "ticks": ""
             }
            },
            "type": "scatterpolar"
           }
          ],
          "scatterpolargl": [
           {
            "marker": {
             "colorbar": {
              "outlinewidth": 0,
              "ticks": ""
             }
            },
            "type": "scatterpolargl"
           }
          ],
          "scatterternary": [
           {
            "marker": {
             "colorbar": {
              "outlinewidth": 0,
              "ticks": ""
             }
            },
            "type": "scatterternary"
           }
          ],
          "surface": [
           {
            "colorbar": {
             "outlinewidth": 0,
             "ticks": ""
            },
            "colorscale": [
             [
              0,
              "#0d0887"
             ],
             [
              0.1111111111111111,
              "#46039f"
             ],
             [
              0.2222222222222222,
              "#7201a8"
             ],
             [
              0.3333333333333333,
              "#9c179e"
             ],
             [
              0.4444444444444444,
              "#bd3786"
             ],
             [
              0.5555555555555556,
              "#d8576b"
             ],
             [
              0.6666666666666666,
              "#ed7953"
             ],
             [
              0.7777777777777778,
              "#fb9f3a"
             ],
             [
              0.8888888888888888,
              "#fdca26"
             ],
             [
              1,
              "#f0f921"
             ]
            ],
            "type": "surface"
           }
          ],
          "table": [
           {
            "cells": {
             "fill": {
              "color": "#EBF0F8"
             },
             "line": {
              "color": "white"
             }
            },
            "header": {
             "fill": {
              "color": "#C8D4E3"
             },
             "line": {
              "color": "white"
             }
            },
            "type": "table"
           }
          ]
         },
         "layout": {
          "annotationdefaults": {
           "arrowcolor": "#2a3f5f",
           "arrowhead": 0,
           "arrowwidth": 1
          },
          "autotypenumbers": "strict",
          "coloraxis": {
           "colorbar": {
            "outlinewidth": 0,
            "ticks": ""
           }
          },
          "colorscale": {
           "diverging": [
            [
             0,
             "#8e0152"
            ],
            [
             0.1,
             "#c51b7d"
            ],
            [
             0.2,
             "#de77ae"
            ],
            [
             0.3,
             "#f1b6da"
            ],
            [
             0.4,
             "#fde0ef"
            ],
            [
             0.5,
             "#f7f7f7"
            ],
            [
             0.6,
             "#e6f5d0"
            ],
            [
             0.7,
             "#b8e186"
            ],
            [
             0.8,
             "#7fbc41"
            ],
            [
             0.9,
             "#4d9221"
            ],
            [
             1,
             "#276419"
            ]
           ],
           "sequential": [
            [
             0,
             "#0d0887"
            ],
            [
             0.1111111111111111,
             "#46039f"
            ],
            [
             0.2222222222222222,
             "#7201a8"
            ],
            [
             0.3333333333333333,
             "#9c179e"
            ],
            [
             0.4444444444444444,
             "#bd3786"
            ],
            [
             0.5555555555555556,
             "#d8576b"
            ],
            [
             0.6666666666666666,
             "#ed7953"
            ],
            [
             0.7777777777777778,
             "#fb9f3a"
            ],
            [
             0.8888888888888888,
             "#fdca26"
            ],
            [
             1,
             "#f0f921"
            ]
           ],
           "sequentialminus": [
            [
             0,
             "#0d0887"
            ],
            [
             0.1111111111111111,
             "#46039f"
            ],
            [
             0.2222222222222222,
             "#7201a8"
            ],
            [
             0.3333333333333333,
             "#9c179e"
            ],
            [
             0.4444444444444444,
             "#bd3786"
            ],
            [
             0.5555555555555556,
             "#d8576b"
            ],
            [
             0.6666666666666666,
             "#ed7953"
            ],
            [
             0.7777777777777778,
             "#fb9f3a"
            ],
            [
             0.8888888888888888,
             "#fdca26"
            ],
            [
             1,
             "#f0f921"
            ]
           ]
          },
          "colorway": [
           "#636efa",
           "#EF553B",
           "#00cc96",
           "#ab63fa",
           "#FFA15A",
           "#19d3f3",
           "#FF6692",
           "#B6E880",
           "#FF97FF",
           "#FECB52"
          ],
          "font": {
           "color": "#2a3f5f"
          },
          "geo": {
           "bgcolor": "white",
           "lakecolor": "white",
           "landcolor": "#E5ECF6",
           "showlakes": true,
           "showland": true,
           "subunitcolor": "white"
          },
          "hoverlabel": {
           "align": "left"
          },
          "hovermode": "closest",
          "mapbox": {
           "style": "light"
          },
          "paper_bgcolor": "white",
          "plot_bgcolor": "#E5ECF6",
          "polar": {
           "angularaxis": {
            "gridcolor": "white",
            "linecolor": "white",
            "ticks": ""
           },
           "bgcolor": "#E5ECF6",
           "radialaxis": {
            "gridcolor": "white",
            "linecolor": "white",
            "ticks": ""
           }
          },
          "scene": {
           "xaxis": {
            "backgroundcolor": "#E5ECF6",
            "gridcolor": "white",
            "gridwidth": 2,
            "linecolor": "white",
            "showbackground": true,
            "ticks": "",
            "zerolinecolor": "white"
           },
           "yaxis": {
            "backgroundcolor": "#E5ECF6",
            "gridcolor": "white",
            "gridwidth": 2,
            "linecolor": "white",
            "showbackground": true,
            "ticks": "",
            "zerolinecolor": "white"
           },
           "zaxis": {
            "backgroundcolor": "#E5ECF6",
            "gridcolor": "white",
            "gridwidth": 2,
            "linecolor": "white",
            "showbackground": true,
            "ticks": "",
            "zerolinecolor": "white"
           }
          },
          "shapedefaults": {
           "line": {
            "color": "#2a3f5f"
           }
          },
          "ternary": {
           "aaxis": {
            "gridcolor": "white",
            "linecolor": "white",
            "ticks": ""
           },
           "baxis": {
            "gridcolor": "white",
            "linecolor": "white",
            "ticks": ""
           },
           "bgcolor": "#E5ECF6",
           "caxis": {
            "gridcolor": "white",
            "linecolor": "white",
            "ticks": ""
           }
          },
          "title": {
           "x": 0.05
          },
          "xaxis": {
           "automargin": true,
           "gridcolor": "white",
           "linecolor": "white",
           "ticks": "",
           "title": {
            "standoff": 15
           },
           "zerolinecolor": "white",
           "zerolinewidth": 2
          },
          "yaxis": {
           "automargin": true,
           "gridcolor": "white",
           "linecolor": "white",
           "ticks": "",
           "title": {
            "standoff": 15
           },
           "zerolinecolor": "white",
           "zerolinewidth": 2
          }
         }
        },
        "xaxis": {
         "anchor": "y",
         "domain": [
          0,
          1
         ],
         "title": {
          "text": "coef"
         }
        },
        "yaxis": {
         "anchor": "x",
         "domain": [
          0,
          1
         ],
         "title": {
          "text": "feature"
         }
        }
       }
      }
     },
     "metadata": {},
     "output_type": "display_data"
    }
   ],
   "source": [
    "pipe = Pipeline(\n",
    "    steps=[('ss', StandardScaler()),\n",
    "           ('lr', LogisticRegression(random_state=RANDOM_STATE))]\n",
    ")\n",
    "\n",
    "pipe.fit(\n",
    "    X=bow_vect.transform(df.loc[df['sample_part'] == 'train', 'description_text_stem']).toarray(),\n",
    "    y=df.loc[df['sample_part'] == 'train', 'dizainerskii']\n",
    ")\n",
    "\n",
    "best_features(model=pipe['lr'], vect=bow_vect, top_n=50, height=1000)"
   ]
  },
  {
   "cell_type": "markdown",
   "metadata": {},
   "source": [
    "- `натуральн`\n",
    "- `апартамент`"
   ]
  },
  {
   "cell_type": "code",
   "execution_count": 297,
   "metadata": {},
   "outputs": [
    {
     "name": "stdout",
     "output_type": "stream",
     "text": [
      "find 1882 of 19322\n",
      "attr_value_name\n",
      "dizainerskii       0.387354\n",
      "evro               0.278427\n",
      "kosmeticheskii     0.195005\n",
      "trebuet_remonta    0.139214\n",
      "Name: proportion, dtype: float64\n",
      "\n"
     ]
    }
   ],
   "source": [
    "mask = df['description_text_stem'].apply(lambda text: ('натуральн' in text))\n",
    "print(f\"\"\"find {np.sum(mask)} of {df['attr_value_name'].value_counts()['dizainerskii']}\"\"\")\n",
    "print(df.loc[mask, 'attr_value_name'].value_counts(normalize=True), end='\\n\\n')\n",
    "# print(df.loc[~mask, 'attr_value_name'].value_counts(normalize=True), end='\\n\\n')"
   ]
  },
  {
   "cell_type": "code",
   "execution_count": 298,
   "metadata": {},
   "outputs": [
    {
     "name": "stdout",
     "output_type": "stream",
     "text": [
      "find 2428 of 19322\n",
      "attr_value_name\n",
      "dizainerskii       0.410626\n",
      "evro               0.254119\n",
      "trebuet_remonta    0.203871\n",
      "kosmeticheskii     0.131384\n",
      "Name: proportion, dtype: float64\n",
      "\n"
     ]
    }
   ],
   "source": [
    "mask = df['description_text_stem'].apply(lambda text: ('апартамент' in text))\n",
    "print(f\"\"\"find {np.sum(mask)} of {df['attr_value_name'].value_counts()['dizainerskii']}\"\"\")\n",
    "print(df.loc[mask, 'attr_value_name'].value_counts(normalize=True), end='\\n\\n')\n",
    "# print(df.loc[~mask, 'attr_value_name'].value_counts(normalize=True), end='\\n\\n')"
   ]
  },
  {
   "cell_type": "markdown",
   "metadata": {},
   "source": [
    "# Пробую выделить лучшие n-граммы циклом по всем n-граммам"
   ]
  },
  {
   "cell_type": "markdown",
   "metadata": {},
   "source": [
    "### `trebuet_remonta`"
   ]
  },
  {
   "cell_type": "code",
   "execution_count": 311,
   "metadata": {},
   "outputs": [],
   "source": [
    "def find_best_ngrams(target_category: str, vect: CountVectorizer | TfidfVectorizer) -> list:\n",
    "    mask_train = df['sample_part'] == 'train'\n",
    "\n",
    "    results = []\n",
    "    base_ratio = df.loc[mask_train, 'attr_value_name'].value_counts(normalize=True)[target_category]\n",
    "    for ngram in tqdm(vect.vocabulary_):\n",
    "        mask_ngram = df['description_text_stem'].apply(lambda text: ngram in text)\n",
    "        ngram_ratio = df.loc[mask_train & mask_ngram, 'attr_value_name'].value_counts(normalize=True).get(target_category, default=0)\n",
    "        results.append([ngram, ngram_ratio / base_ratio])\n",
    "\n",
    "    results = sorted(results, key=lambda x: x[1], reverse=True)\n",
    "    return results"
   ]
  },
  {
   "cell_type": "code",
   "execution_count": 318,
   "metadata": {},
   "outputs": [
    {
     "name": "stderr",
     "output_type": "stream",
     "text": []
    },
    {
     "name": "stderr",
     "output_type": "stream",
     "text": [
      "100%|██████████| 1751/1751 [02:28<00:00, 11.78it/s]\n",
      "100%|██████████| 1751/1751 [02:29<00:00, 11.68it/s]\n",
      "100%|██████████| 1751/1751 [02:30<00:00, 11.63it/s]\n",
      "100%|██████████| 1751/1751 [02:30<00:00, 11.63it/s]\n"
     ]
    }
   ],
   "source": [
    "trebuet_remonta_ngrams = find_best_ngrams(target_category='trebuet_remonta', vect=bow_vect)\n",
    "kosmeticheskii_ngrams = find_best_ngrams(target_category='kosmeticheskii', vect=bow_vect)\n",
    "evro_ngrams = find_best_ngrams(target_category='evro', vect=bow_vect)\n",
    "dizainerskii_ngrams = find_best_ngrams(target_category='dizainerskii', vect=bow_vect)"
   ]
  },
  {
   "cell_type": "code",
   "execution_count": 323,
   "metadata": {},
   "outputs": [
    {
     "data": {
      "text/plain": [
       "[['отвеч вопрос', 5.257637698360368],\n",
       " ['чернов отделк', 4.604007526070034],\n",
       " ['чернов', 4.3491179040836965],\n",
       " ['квартир треб', 4.199052926878414],\n",
       " ['треб ремонт', 4.191095732961809]]"
      ]
     },
     "execution_count": 323,
     "metadata": {},
     "output_type": "execute_result"
    }
   ],
   "source": [
    "trebuet_remonta_ngrams[:5]"
   ]
  },
  {
   "cell_type": "code",
   "execution_count": 324,
   "metadata": {},
   "outputs": [
    {
     "data": {
      "text/plain": [
       "[['ответ ваш', 2.1524258566081196],\n",
       " ['сдела косметическ', 1.9431229480811805],\n",
       " ['косметическ ремонт', 1.8328146584521179],\n",
       " ['косметическ', 1.829706400981503],\n",
       " ['пол линолеум', 1.639308856735596]]"
      ]
     },
     "execution_count": 324,
     "metadata": {},
     "output_type": "execute_result"
    }
   ],
   "source": [
    "kosmeticheskii_ngrams[:5]"
   ]
  },
  {
   "cell_type": "code",
   "execution_count": 325,
   "metadata": {},
   "outputs": [
    {
     "data": {
      "text/plain": [
       "[['никт жил', 4.027680495689655],\n",
       " ['никт прописа', 4.027680495689655],\n",
       " ['евроремонт', 3.364982648705699],\n",
       " ['современ ремонт', 2.8296495005351554],\n",
       " ['качествен ремонт', 2.340362732851926]]"
      ]
     },
     "execution_count": 325,
     "metadata": {},
     "output_type": "execute_result"
    }
   ],
   "source": [
    "evro_ngrams[:5]"
   ]
  },
  {
   "cell_type": "code",
   "execution_count": 326,
   "metadata": {},
   "outputs": [
    {
     "data": {
      "text/plain": [
       "[['дизайнерск ремонт', 8.316220960773475],\n",
       " ['дизайнерск', 6.443614853027728],\n",
       " ['дизайн', 5.368240857427983],\n",
       " ['дизайн проект', 5.178308485137517],\n",
       " ['необходим жизн', 5.158543948934702]]"
      ]
     },
     "execution_count": 326,
     "metadata": {},
     "output_type": "execute_result"
    }
   ],
   "source": [
    "dizainerskii_ngrams[:5]"
   ]
  },
  {
   "cell_type": "markdown",
   "metadata": {},
   "source": [
    "Подход не идеален, но на фоне остальных выглядит самым удачным.\n",
    "\n",
    "Возьмем его за основу"
   ]
  },
  {
   "cell_type": "markdown",
   "metadata": {},
   "source": [
    "# Определение экспертного правила (на основе регулярок)"
   ]
  },
  {
   "cell_type": "markdown",
   "metadata": {},
   "source": [
    "### Описание работы baseline:\n",
    "\n",
    "Будем определять категорию объявления следующим образом:\n",
    "1) Заводим счетчик баллов категорий как словарь, где значение для каждой категории инициализировано нулем.\n",
    "2) Для стеммизированного описания объявления пройдемся по всем n-gram с `важностью` (важность – 2-й элемент списков выше) > `threshold`:\n",
    "    - Если n-gram есть в описании => прибавляем к соотвествующей категории `важность` n-gram'ы.\n",
    "    - Если нет => ничего не делаем\n",
    "3) Нормируем на общую важность категории (сумма важностей всех n-gram, прошедших трешхолд)\n",
    "4) Берем argmax. Т.е. выбираем категорию с наибольшим суммарным баллом.\n",
    "5) Если у всех категорий по 0 баллов => берем случайную категорию"
   ]
  },
  {
   "cell_type": "code",
   "execution_count": 346,
   "metadata": {},
   "outputs": [],
   "source": [
    "THRESHOLD = 1.5 # берем н-граммы с силой > 1.5\n",
    "CATEGORIES = ['trebuet_remonta', 'kosmeticheskii', 'evro', 'dizainerskii']\n",
    "CAT_PROBABILITIES = df.loc[df['sample_part'] == 'train', 'attr_value_name'].value_counts(normalize=True)"
   ]
  },
  {
   "cell_type": "code",
   "execution_count": 398,
   "metadata": {},
   "outputs": [],
   "source": [
    "n_grams = {\n",
    "    'trebuet_remonta': trebuet_remonta_ngrams,\n",
    "    'kosmeticheskii': kosmeticheskii_ngrams,\n",
    "    'evro': evro_ngrams,\n",
    "    'dizainerskii': dizainerskii_ngrams,\n",
    "}"
   ]
  },
  {
   "cell_type": "code",
   "execution_count": 406,
   "metadata": {},
   "outputs": [],
   "source": [
    "def filter_n_grams(\n",
    "        n_grams: dict,\n",
    "        threshold: float = THRESHOLD,\n",
    "        categories: list = CATEGORIES\n",
    "    ) -> dict:\n",
    "    \"\"\"Функция для фильтрации n-gram. Берем только n-gram с важностью большей чем трешхолд.\n",
    "    \"\"\"\n",
    "    filtered_n_grams = deepcopy(n_grams) # делаем копию\n",
    "    for cat in categories:\n",
    "        filtered_n_grams[cat] = [[ngram, imp] for ngram, imp in n_grams[cat] if imp > threshold] # фильтруем н-граммы\n",
    "    return filtered_n_grams"
   ]
  },
  {
   "cell_type": "code",
   "execution_count": 407,
   "metadata": {},
   "outputs": [],
   "source": [
    "def calc_total_points(\n",
    "        filtered_n_grams: dict,\n",
    "        categories: list = CATEGORIES\n",
    "    ) -> dict:\n",
    "    \"\"\"Возвращает сумму важностей n-gram в категории.\n",
    "    \"\"\"\n",
    "    total_points = {cat: 0 for cat in categories}\n",
    "    for cat in categories:\n",
    "        for ngram, imp in filtered_n_grams[cat]:\n",
    "            total_points[cat] += imp\n",
    "\n",
    "    return total_points"
   ]
  },
  {
   "cell_type": "code",
   "execution_count": 408,
   "metadata": {},
   "outputs": [],
   "source": [
    "def baseline_category(\n",
    "        stem_description: str,\n",
    "        filtered_n_grams: dict,\n",
    "        total_points_cat: dict,\n",
    "        cat_probabilities: dict = CAT_PROBABILITIES,\n",
    "        categories: list = CATEGORIES\n",
    "    ) -> str:\n",
    "    \"\"\"Определяем категорию для конкретного объявления.\n",
    "    \"\"\"\n",
    "    points = {cat: 0 for cat in categories}\n",
    "    for cat in categories:\n",
    "        for ngram, imp in filtered_n_grams[cat]:\n",
    "            if ngram in stem_description:\n",
    "                points[cat] += imp\n",
    "\n",
    "    points_norm = {\n",
    "        cat: points[cat] / total_points_cat[cat] for cat in categories\n",
    "    }\n",
    "    best_cat = sorted(points_norm.items(), key=lambda x: x[1], reverse=True)[0]\n",
    "    if best_cat[1] > 0: # есть points > 0\n",
    "        return best_cat[0] # пользуюсь тем, что словарь отсортирован\n",
    "    else:\n",
    "        cat_proba = [cat_probabilities[cat] for cat in categories]\n",
    "        return np.random.choice(categories, p=cat_proba)"
   ]
  },
  {
   "cell_type": "code",
   "execution_count": 394,
   "metadata": {},
   "outputs": [],
   "source": [
    "filtered_n_grams_ = filter_n_grams(\n",
    "    n_grams=n_grams,\n",
    "    threshold=THRESHOLD,\n",
    "    categories=CATEGORIES\n",
    ")\n",
    "\n",
    "total_points_cat = calc_total_points(\n",
    "    filtered_n_grams=filtered_n_grams_,\n",
    "    categories=CATEGORIES\n",
    ")\n",
    "\n",
    "np.random.seed(RANDOM_STATE) # обязательно фиксируем seed\n",
    "df['baseline_prediction'] = df['description_text_stem'].apply(lambda descr: baseline_category(\n",
    "    stem_description=descr,\n",
    "    filtered_n_grams=filtered_n_grams_,\n",
    "    total_points_cat=total_points_cat,\n",
    "    cat_probabilities=CAT_PROBABILITIES,\n",
    "    categories=CATEGORIES\n",
    "    )\n",
    ")"
   ]
  },
  {
   "cell_type": "markdown",
   "metadata": {},
   "source": [
    "Проверяем точность"
   ]
  },
  {
   "cell_type": "code",
   "execution_count": 384,
   "metadata": {},
   "outputs": [
    {
     "name": "stdout",
     "output_type": "stream",
     "text": [
      "baseline accuracy: 0.4108676458784814\n"
     ]
    }
   ],
   "source": [
    "print('baseline accuracy:', (df['baseline_prediction'] == df['attr_value_name']).mean())"
   ]
  },
  {
   "cell_type": "markdown",
   "metadata": {},
   "source": [
    "### А есть без нормализации..."
   ]
  },
  {
   "cell_type": "code",
   "execution_count": 385,
   "metadata": {},
   "outputs": [],
   "source": [
    "filtered_n_grams_ = filter_n_grams(\n",
    "    n_grams=n_grams,\n",
    "    threshold=THRESHOLD,\n",
    "    categories=CATEGORIES\n",
    ")\n",
    "\n",
    "total_points_cat = {cat: 1 for cat in CATEGORIES} # нормируем на 1\n",
    "\n",
    "np.random.seed(RANDOM_STATE) # обязательно фиксируем seed\n",
    "df['baseline_prediction_wo_norm'] = df['description_text_stem'].apply(lambda descr: baseline_category(\n",
    "    stem_description=descr,\n",
    "    filtered_n_grams=filtered_n_grams_,\n",
    "    total_points_cat=total_points_cat,\n",
    "    cat_probabilities=CAT_PROBABILITIES,\n",
    "    categories=CATEGORIES\n",
    "    )\n",
    ")"
   ]
  },
  {
   "cell_type": "code",
   "execution_count": 387,
   "metadata": {},
   "outputs": [
    {
     "name": "stdout",
     "output_type": "stream",
     "text": [
      "baseline accuracy wo normalization: 0.20066317521470423\n"
     ]
    }
   ],
   "source": [
    "print('baseline accuracy wo normalization:', (df['baseline_prediction_wo_norm'] == df['attr_value_name']).mean())"
   ]
  },
  {
   "cell_type": "markdown",
   "metadata": {},
   "source": [
    "Довольно грустно"
   ]
  },
  {
   "cell_type": "markdown",
   "metadata": {},
   "source": [
    "### Другой трешхолд\n",
    "\n",
    "Попробуем пошатать трешхолд"
   ]
  },
  {
   "cell_type": "markdown",
   "metadata": {},
   "source": [
    "#### 1.25"
   ]
  },
  {
   "cell_type": "code",
   "execution_count": 411,
   "metadata": {},
   "outputs": [],
   "source": [
    "filtered_n_grams_ = filter_n_grams(\n",
    "    n_grams=n_grams,\n",
    "    threshold=1.25, # задаем меньший трешхолд\n",
    "    categories=CATEGORIES\n",
    ")\n",
    "\n",
    "total_points_cat = calc_total_points(\n",
    "    filtered_n_grams=filtered_n_grams_,\n",
    "    categories=CATEGORIES\n",
    ")\n",
    "\n",
    "np.random.seed(RANDOM_STATE) # обязательно фиксируем seed\n",
    "df['baseline_prediction_1.25'] = df['description_text_stem'].apply(lambda descr: baseline_category(\n",
    "    stem_description=descr,\n",
    "    filtered_n_grams=filtered_n_grams_,\n",
    "    total_points_cat=total_points_cat,\n",
    "    cat_probabilities=CAT_PROBABILITIES,\n",
    "    categories=CATEGORIES\n",
    "    )\n",
    ")"
   ]
  },
  {
   "cell_type": "code",
   "execution_count": 412,
   "metadata": {},
   "outputs": [
    {
     "name": "stdout",
     "output_type": "stream",
     "text": [
      "baseline accuracy (threshold 1.25): 0.4288967814431335\n"
     ]
    }
   ],
   "source": [
    "print('baseline accuracy (threshold 1.25):', (df['baseline_prediction_1.25'] == df['attr_value_name']).mean())"
   ]
  },
  {
   "cell_type": "markdown",
   "metadata": {},
   "source": [
    "Время обработки выросло, но и точность подросла"
   ]
  },
  {
   "cell_type": "markdown",
   "metadata": {},
   "source": [
    "#### 1.75"
   ]
  },
  {
   "cell_type": "code",
   "execution_count": 413,
   "metadata": {},
   "outputs": [],
   "source": [
    "filtered_n_grams_ = filter_n_grams(\n",
    "    n_grams=n_grams,\n",
    "    threshold=1.75, # задаем больший трешхолд\n",
    "    categories=CATEGORIES\n",
    ")\n",
    "\n",
    "total_points_cat = calc_total_points(\n",
    "    filtered_n_grams=filtered_n_grams_,\n",
    "    categories=CATEGORIES\n",
    ")\n",
    "\n",
    "np.random.seed(RANDOM_STATE) # обязательно фиксируем seed\n",
    "df['baseline_prediction_1.75'] = df['description_text_stem'].apply(lambda descr: baseline_category(\n",
    "    stem_description=descr,\n",
    "    filtered_n_grams=filtered_n_grams_,\n",
    "    total_points_cat=total_points_cat,\n",
    "    cat_probabilities=CAT_PROBABILITIES,\n",
    "    categories=CATEGORIES\n",
    "    )\n",
    ")"
   ]
  },
  {
   "cell_type": "code",
   "execution_count": 414,
   "metadata": {},
   "outputs": [
    {
     "name": "stdout",
     "output_type": "stream",
     "text": [
      "baseline accuracy (threshold 1.75): 0.3710119190946304\n"
     ]
    }
   ],
   "source": [
    "print('baseline accuracy (threshold 1.75):', (df['baseline_prediction_1.75'] == df['attr_value_name']).mean())"
   ]
  },
  {
   "cell_type": "markdown",
   "metadata": {},
   "source": [
    "Точность упала"
   ]
  },
  {
   "cell_type": "markdown",
   "metadata": {},
   "source": [
    "#### Пробую подобрать более оптимальный трешхолд"
   ]
  },
  {
   "cell_type": "markdown",
   "metadata": {},
   "source": [
    "#### 1"
   ]
  },
  {
   "cell_type": "code",
   "execution_count": 415,
   "metadata": {},
   "outputs": [],
   "source": [
    "filtered_n_grams_ = filter_n_grams(\n",
    "    n_grams=n_grams,\n",
    "    threshold=1, # задаем меньший трешхолд\n",
    "    categories=CATEGORIES\n",
    ")\n",
    "\n",
    "total_points_cat = calc_total_points(\n",
    "    filtered_n_grams=filtered_n_grams_,\n",
    "    categories=CATEGORIES\n",
    ")\n",
    "\n",
    "np.random.seed(RANDOM_STATE) # обязательно фиксируем seed\n",
    "df['baseline_prediction_1'] = df['description_text_stem'].apply(lambda descr: baseline_category(\n",
    "    stem_description=descr,\n",
    "    filtered_n_grams=filtered_n_grams_,\n",
    "    total_points_cat=total_points_cat,\n",
    "    cat_probabilities=CAT_PROBABILITIES,\n",
    "    categories=CATEGORIES\n",
    "    )\n",
    ")"
   ]
  },
  {
   "cell_type": "code",
   "execution_count": 416,
   "metadata": {},
   "outputs": [
    {
     "name": "stdout",
     "output_type": "stream",
     "text": [
      "baseline accuracy (threshold 1): 0.4867264627979774\n"
     ]
    }
   ],
   "source": [
    "print('baseline accuracy (threshold 1):', (df['baseline_prediction_1'] == df['attr_value_name']).mean())"
   ]
  },
  {
   "cell_type": "markdown",
   "metadata": {},
   "source": [
    "Ого, тут все ещё лучше.\n",
    "\n",
    "И это даже лучше, чем всегда выдавать самую частую категорию (`косметический`)"
   ]
  },
  {
   "cell_type": "markdown",
   "metadata": {},
   "source": [
    "#### 1.125"
   ]
  },
  {
   "cell_type": "code",
   "execution_count": 418,
   "metadata": {},
   "outputs": [],
   "source": [
    "filtered_n_grams_ = filter_n_grams(\n",
    "    n_grams=n_grams,\n",
    "    threshold=1.125, # задаем меньший трешхолд\n",
    "    categories=CATEGORIES\n",
    ")\n",
    "\n",
    "total_points_cat = calc_total_points(\n",
    "    filtered_n_grams=filtered_n_grams_,\n",
    "    categories=CATEGORIES\n",
    ")\n",
    "\n",
    "np.random.seed(RANDOM_STATE) # обязательно фиксируем seed\n",
    "df['baseline_prediction_1.125'] = df['description_text_stem'].apply(lambda descr: baseline_category(\n",
    "    stem_description=descr,\n",
    "    filtered_n_grams=filtered_n_grams_,\n",
    "    total_points_cat=total_points_cat,\n",
    "    cat_probabilities=CAT_PROBABILITIES,\n",
    "    categories=CATEGORIES\n",
    "    )\n",
    ")"
   ]
  },
  {
   "cell_type": "code",
   "execution_count": 419,
   "metadata": {},
   "outputs": [
    {
     "name": "stdout",
     "output_type": "stream",
     "text": [
      "baseline accuracy (threshold 1.125): 0.42760755277309576\n"
     ]
    }
   ],
   "source": [
    "print('baseline accuracy (threshold 1.125):', (df['baseline_prediction_1.125'] == df['attr_value_name']).mean())"
   ]
  },
  {
   "cell_type": "markdown",
   "metadata": {},
   "source": [
    "Тоже все грустно"
   ]
  },
  {
   "cell_type": "markdown",
   "metadata": {},
   "source": [
    "#### Ну и последняя попытка.."
   ]
  },
  {
   "cell_type": "code",
   "execution_count": 420,
   "metadata": {},
   "outputs": [],
   "source": [
    "filtered_n_grams_ = filter_n_grams(\n",
    "    n_grams=n_grams,\n",
    "    threshold=1.05, # задаем меньший трешхолд\n",
    "    categories=CATEGORIES\n",
    ")\n",
    "\n",
    "total_points_cat = calc_total_points(\n",
    "    filtered_n_grams=filtered_n_grams_,\n",
    "    categories=CATEGORIES\n",
    ")\n",
    "\n",
    "np.random.seed(RANDOM_STATE) # обязательно фиксируем seed\n",
    "df['baseline_prediction_1.05'] = df['description_text_stem'].apply(lambda descr: baseline_category(\n",
    "    stem_description=descr,\n",
    "    filtered_n_grams=filtered_n_grams_,\n",
    "    total_points_cat=total_points_cat,\n",
    "    cat_probabilities=CAT_PROBABILITIES,\n",
    "    categories=CATEGORIES\n",
    "    )\n",
    ")"
   ]
  },
  {
   "cell_type": "code",
   "execution_count": 421,
   "metadata": {},
   "outputs": [
    {
     "name": "stdout",
     "output_type": "stream",
     "text": [
      "baseline accuracy (threshold 1.05): 0.4405550204671322\n"
     ]
    }
   ],
   "source": [
    "print('baseline accuracy (threshold 1.05):', (df['baseline_prediction_1.05'] == df['attr_value_name']).mean())"
   ]
  },
  {
   "cell_type": "markdown",
   "metadata": {},
   "source": [
    "# Фиксируем прометку"
   ]
  },
  {
   "cell_type": "markdown",
   "metadata": {},
   "source": [
    "**Итог**: Берем базелин с трешхолдом 1"
   ]
  },
  {
   "cell_type": "code",
   "execution_count": 423,
   "metadata": {},
   "outputs": [],
   "source": [
    "df[['item_id', 'baseline_prediction_1']].rename(\n",
    "    columns={'baseline_prediction_1': 'baseline_prediction'}\n",
    "    ).to_csv('baseline_prediction.csv', index=False)"
   ]
  },
  {
   "cell_type": "code",
   "execution_count": 430,
   "metadata": {},
   "outputs": [
    {
     "name": "stdout",
     "output_type": "stream",
     "text": [
      "baseline accuracy (threshold 1): 0.4867264627979774\n"
     ]
    }
   ],
   "source": [
    "print('baseline accuracy (threshold 1):', (df['baseline_prediction_1'] == df['attr_value_name']).mean())"
   ]
  },
  {
   "cell_type": "code",
   "execution_count": null,
   "metadata": {},
   "outputs": [],
   "source": []
  }
 ],
 "metadata": {
  "kernelspec": {
   "display_name": "base_env",
   "language": "python",
   "name": "python3"
  },
  "language_info": {
   "codemirror_mode": {
    "name": "ipython",
    "version": 3
   },
   "file_extension": ".py",
   "mimetype": "text/x-python",
   "name": "python",
   "nbconvert_exporter": "python",
   "pygments_lexer": "ipython3",
   "version": "3.11.5"
  }
 },
 "nbformat": 4,
 "nbformat_minor": 2
}
